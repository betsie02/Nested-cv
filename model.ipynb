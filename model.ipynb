{
  "nbformat": 4,
  "nbformat_minor": 0,
  "metadata": {
    "colab": {
      "provenance": []
    },
    "kernelspec": {
      "name": "python3",
      "display_name": "Python 3"
    },
    "language_info": {
      "name": "python"
    }
  },
  "cells": [
    {
      "cell_type": "markdown",
      "source": [
        "###Soda Quantity Prediction using Nested cv method"
      ],
      "metadata": {
        "id": "9lMfE4QpF_nG"
      }
    },
    {
      "cell_type": "markdown",
      "source": [
        "###Problem Statement\n",
        " *  To predict the quantity of soda based on historical timeseries data. The dataset contains information about the demand for soda over time.\n",
        " * The goal is to develop a predictive model that can accurately estimate the quantity of soda based on various features such as date, capacity, and other relevant factors."
      ],
      "metadata": {
        "id": "VMn-v3XNGKX1"
      }
    },
    {
      "cell_type": "markdown",
      "source": [
        "###Table of Contents:\n",
        "\n",
        "  1)Importing the dependencies\n",
        "\n",
        "  2)Reading the csv file\n",
        "\n",
        "  3)Data cleaning\n",
        "\n",
        "    i)   Romving the unwanted columns in the dataset\n",
        "    ii)  Handling the null/missing/na values\n",
        "    iii) Converting litres to ml in the capacity column\n",
        "\n",
        "  4)Data visualization\n",
        "  \n",
        "  5)Data Preprocessing\n",
        "\n",
        "  6)Splitting the data\n",
        "  \n",
        "  7)Model Building\n",
        "\n",
        "  8)Nested cv method\n",
        "\n",
        "    i)  Splitting data using nested cv class\n",
        "    ii) To check stationary\n",
        "    iii)Using Nested KFold with Machine Learning Models\n",
        "  \n",
        "  9) Conclusion"
      ],
      "metadata": {
        "id": "mM-HDTTWG-uC"
      }
    },
    {
      "cell_type": "markdown",
      "source": [
        "###Importing the dependencies"
      ],
      "metadata": {
        "id": "79anPH57bPZW"
      }
    },
    {
      "cell_type": "code",
      "source": [
        "import pandas as pd\n",
        "import numpy as np\n",
        "import os\n",
        "\n",
        "# Printing the file path of each file in the specified directory\n",
        "for dirname, _, filenames in os.walk('/content/drive/MyDrive/archive (19).zip'):\n",
        "    for filename in filenames:\n",
        "        print(os.path.join(dirname, filename))\n",
        "\n",
        "# Visualization\n",
        "import matplotlib as mpl\n",
        "import matplotlib.pyplot as plt\n",
        "import matplotlib.pylab as pylab\n",
        "import seaborn as sns\n",
        "from pandas.plotting import scatter_matrix\n",
        "\n",
        "# Data preprocessing and feature engineering\n",
        "from sklearn.model_selection import train_test_split, TimeSeriesSplit\n",
        "from sklearn.preprocessing import StandardScaler\n",
        "from sklearn.preprocessing import MinMaxScaler\n",
        "from sklearn.decomposition import PCA\n",
        "\n",
        "# Regression models\n",
        "from sklearn.neighbors import KNeighborsRegressor\n",
        "from sklearn.linear_model import LinearRegression\n",
        "from sklearn.linear_model import Lasso\n",
        "from sklearn.linear_model import ElasticNet\n",
        "from sklearn.svm import LinearSVR, SVR\n",
        "from sklearn.tree import DecisionTreeRegressor\n",
        "from sklearn.neural_network import MLPRegressor\n",
        "from sklearn.ensemble import GradientBoostingRegressor\n",
        "\n",
        "# Model evaluation and validation\n",
        "from sklearn.model_selection import cross_val_score\n",
        "from sklearn.model_selection import KFold\n",
        "from sklearn.pipeline import Pipeline\n",
        "from sklearn.preprocessing import StandardScaler\n",
        "from sklearn.model_selection import cross_val_score\n",
        "\n",
        "# Time series analysis\n",
        "from statsmodels.tsa.vector_ar.vecm import coint_johansen\n",
        "\n",
        "# Evaluation metrics\n",
        "from sklearn.metrics import mean_squared_error\n",
        "from sklearn.metrics import r2_score\n",
        "\n",
        "import warnings\n",
        "warnings.filterwarnings(action='ignore')\n"
      ],
      "metadata": {
        "id": "LqJBPDAKgEe_"
      },
      "execution_count": 249,
      "outputs": []
    },
    {
      "cell_type": "markdown",
      "source": [
        "###Read the csv files using pandas"
      ],
      "metadata": {
        "id": "oJvDqa_bbbVP"
      }
    },
    {
      "cell_type": "code",
      "source": [
        "#reading the train data\n",
        "train_df = pd.read_csv('/content/train.csv', index_col = 1)\n",
        "#reading the test data\n",
        "test_df = pd.read_csv('/content/test.csv', index_col = 1)"
      ],
      "metadata": {
        "id": "z6sB9reIliR4"
      },
      "execution_count": 250,
      "outputs": []
    },
    {
      "cell_type": "code",
      "source": [
        "train_df"
      ],
      "metadata": {
        "colab": {
          "base_uri": "https://localhost:8080/",
          "height": 455
        },
        "id": "1ytOfQPIliNy",
        "outputId": "9f566fb0-9e34-444c-c97b-d6f56dcb6abe"
      },
      "execution_count": 251,
      "outputs": [
        {
          "output_type": "execute_result",
          "data": {
            "text/plain": [
              "           id    city       lat      long       pop    shop        brand  \\\n",
              "date                                                                       \n",
              "31/01/12  0.0  Athens  37.97945  23.71622  672130.0  shop_1  kinder-cola   \n",
              "31/01/12  1.0  Athens  37.97945  23.71622  672130.0  shop_1  kinder-cola   \n",
              "31/01/12  2.0  Athens  37.97945  23.71622  672130.0  shop_1  kinder-cola   \n",
              "31/01/12  3.0  Athens  37.97945  23.71622  672130.0  shop_1   adult-cola   \n",
              "31/01/12  4.0  Athens  37.97945  23.71622  672130.0  shop_1   adult-cola   \n",
              "...       ...     ...       ...       ...       ...     ...          ...   \n",
              "NaN       NaN     NaN       NaN       NaN       NaN     NaN          NaN   \n",
              "NaN       NaN     NaN       NaN       NaN       NaN     NaN          NaN   \n",
              "NaN       NaN     NaN       NaN       NaN       NaN     NaN          NaN   \n",
              "NaN       NaN     NaN       NaN       NaN       NaN     NaN          NaN   \n",
              "NaN       NaN     NaN       NaN       NaN       NaN     NaN          NaN   \n",
              "\n",
              "         container capacity  price  quantity  \n",
              "date                                          \n",
              "31/01/12     glass    500ml   0.96   13280.0  \n",
              "31/01/12   plastic    1.5lt   2.86    6727.0  \n",
              "31/01/12       can    330ml   0.87    9848.0  \n",
              "31/01/12     glass    500ml   1.00   20050.0  \n",
              "31/01/12       can    330ml   0.39   25696.0  \n",
              "...            ...      ...    ...       ...  \n",
              "NaN            NaN      NaN    NaN       NaN  \n",
              "NaN            NaN      NaN    NaN       NaN  \n",
              "NaN            NaN      NaN    NaN       NaN  \n",
              "NaN            NaN      NaN    NaN       NaN  \n",
              "NaN            NaN      NaN    NaN       NaN  \n",
              "\n",
              "[7560 rows x 11 columns]"
            ],
            "text/html": [
              "\n",
              "  <div id=\"df-a4b4af3a-06e6-42ae-8e57-5aa794de73ed\">\n",
              "    <div class=\"colab-df-container\">\n",
              "      <div>\n",
              "<style scoped>\n",
              "    .dataframe tbody tr th:only-of-type {\n",
              "        vertical-align: middle;\n",
              "    }\n",
              "\n",
              "    .dataframe tbody tr th {\n",
              "        vertical-align: top;\n",
              "    }\n",
              "\n",
              "    .dataframe thead th {\n",
              "        text-align: right;\n",
              "    }\n",
              "</style>\n",
              "<table border=\"1\" class=\"dataframe\">\n",
              "  <thead>\n",
              "    <tr style=\"text-align: right;\">\n",
              "      <th></th>\n",
              "      <th>id</th>\n",
              "      <th>city</th>\n",
              "      <th>lat</th>\n",
              "      <th>long</th>\n",
              "      <th>pop</th>\n",
              "      <th>shop</th>\n",
              "      <th>brand</th>\n",
              "      <th>container</th>\n",
              "      <th>capacity</th>\n",
              "      <th>price</th>\n",
              "      <th>quantity</th>\n",
              "    </tr>\n",
              "    <tr>\n",
              "      <th>date</th>\n",
              "      <th></th>\n",
              "      <th></th>\n",
              "      <th></th>\n",
              "      <th></th>\n",
              "      <th></th>\n",
              "      <th></th>\n",
              "      <th></th>\n",
              "      <th></th>\n",
              "      <th></th>\n",
              "      <th></th>\n",
              "      <th></th>\n",
              "    </tr>\n",
              "  </thead>\n",
              "  <tbody>\n",
              "    <tr>\n",
              "      <th>31/01/12</th>\n",
              "      <td>0.0</td>\n",
              "      <td>Athens</td>\n",
              "      <td>37.97945</td>\n",
              "      <td>23.71622</td>\n",
              "      <td>672130.0</td>\n",
              "      <td>shop_1</td>\n",
              "      <td>kinder-cola</td>\n",
              "      <td>glass</td>\n",
              "      <td>500ml</td>\n",
              "      <td>0.96</td>\n",
              "      <td>13280.0</td>\n",
              "    </tr>\n",
              "    <tr>\n",
              "      <th>31/01/12</th>\n",
              "      <td>1.0</td>\n",
              "      <td>Athens</td>\n",
              "      <td>37.97945</td>\n",
              "      <td>23.71622</td>\n",
              "      <td>672130.0</td>\n",
              "      <td>shop_1</td>\n",
              "      <td>kinder-cola</td>\n",
              "      <td>plastic</td>\n",
              "      <td>1.5lt</td>\n",
              "      <td>2.86</td>\n",
              "      <td>6727.0</td>\n",
              "    </tr>\n",
              "    <tr>\n",
              "      <th>31/01/12</th>\n",
              "      <td>2.0</td>\n",
              "      <td>Athens</td>\n",
              "      <td>37.97945</td>\n",
              "      <td>23.71622</td>\n",
              "      <td>672130.0</td>\n",
              "      <td>shop_1</td>\n",
              "      <td>kinder-cola</td>\n",
              "      <td>can</td>\n",
              "      <td>330ml</td>\n",
              "      <td>0.87</td>\n",
              "      <td>9848.0</td>\n",
              "    </tr>\n",
              "    <tr>\n",
              "      <th>31/01/12</th>\n",
              "      <td>3.0</td>\n",
              "      <td>Athens</td>\n",
              "      <td>37.97945</td>\n",
              "      <td>23.71622</td>\n",
              "      <td>672130.0</td>\n",
              "      <td>shop_1</td>\n",
              "      <td>adult-cola</td>\n",
              "      <td>glass</td>\n",
              "      <td>500ml</td>\n",
              "      <td>1.00</td>\n",
              "      <td>20050.0</td>\n",
              "    </tr>\n",
              "    <tr>\n",
              "      <th>31/01/12</th>\n",
              "      <td>4.0</td>\n",
              "      <td>Athens</td>\n",
              "      <td>37.97945</td>\n",
              "      <td>23.71622</td>\n",
              "      <td>672130.0</td>\n",
              "      <td>shop_1</td>\n",
              "      <td>adult-cola</td>\n",
              "      <td>can</td>\n",
              "      <td>330ml</td>\n",
              "      <td>0.39</td>\n",
              "      <td>25696.0</td>\n",
              "    </tr>\n",
              "    <tr>\n",
              "      <th>...</th>\n",
              "      <td>...</td>\n",
              "      <td>...</td>\n",
              "      <td>...</td>\n",
              "      <td>...</td>\n",
              "      <td>...</td>\n",
              "      <td>...</td>\n",
              "      <td>...</td>\n",
              "      <td>...</td>\n",
              "      <td>...</td>\n",
              "      <td>...</td>\n",
              "      <td>...</td>\n",
              "    </tr>\n",
              "    <tr>\n",
              "      <th>NaN</th>\n",
              "      <td>NaN</td>\n",
              "      <td>NaN</td>\n",
              "      <td>NaN</td>\n",
              "      <td>NaN</td>\n",
              "      <td>NaN</td>\n",
              "      <td>NaN</td>\n",
              "      <td>NaN</td>\n",
              "      <td>NaN</td>\n",
              "      <td>NaN</td>\n",
              "      <td>NaN</td>\n",
              "      <td>NaN</td>\n",
              "    </tr>\n",
              "    <tr>\n",
              "      <th>NaN</th>\n",
              "      <td>NaN</td>\n",
              "      <td>NaN</td>\n",
              "      <td>NaN</td>\n",
              "      <td>NaN</td>\n",
              "      <td>NaN</td>\n",
              "      <td>NaN</td>\n",
              "      <td>NaN</td>\n",
              "      <td>NaN</td>\n",
              "      <td>NaN</td>\n",
              "      <td>NaN</td>\n",
              "      <td>NaN</td>\n",
              "    </tr>\n",
              "    <tr>\n",
              "      <th>NaN</th>\n",
              "      <td>NaN</td>\n",
              "      <td>NaN</td>\n",
              "      <td>NaN</td>\n",
              "      <td>NaN</td>\n",
              "      <td>NaN</td>\n",
              "      <td>NaN</td>\n",
              "      <td>NaN</td>\n",
              "      <td>NaN</td>\n",
              "      <td>NaN</td>\n",
              "      <td>NaN</td>\n",
              "      <td>NaN</td>\n",
              "    </tr>\n",
              "    <tr>\n",
              "      <th>NaN</th>\n",
              "      <td>NaN</td>\n",
              "      <td>NaN</td>\n",
              "      <td>NaN</td>\n",
              "      <td>NaN</td>\n",
              "      <td>NaN</td>\n",
              "      <td>NaN</td>\n",
              "      <td>NaN</td>\n",
              "      <td>NaN</td>\n",
              "      <td>NaN</td>\n",
              "      <td>NaN</td>\n",
              "      <td>NaN</td>\n",
              "    </tr>\n",
              "    <tr>\n",
              "      <th>NaN</th>\n",
              "      <td>NaN</td>\n",
              "      <td>NaN</td>\n",
              "      <td>NaN</td>\n",
              "      <td>NaN</td>\n",
              "      <td>NaN</td>\n",
              "      <td>NaN</td>\n",
              "      <td>NaN</td>\n",
              "      <td>NaN</td>\n",
              "      <td>NaN</td>\n",
              "      <td>NaN</td>\n",
              "      <td>NaN</td>\n",
              "    </tr>\n",
              "  </tbody>\n",
              "</table>\n",
              "<p>7560 rows × 11 columns</p>\n",
              "</div>\n",
              "      <button class=\"colab-df-convert\" onclick=\"convertToInteractive('df-a4b4af3a-06e6-42ae-8e57-5aa794de73ed')\"\n",
              "              title=\"Convert this dataframe to an interactive table.\"\n",
              "              style=\"display:none;\">\n",
              "        \n",
              "  <svg xmlns=\"http://www.w3.org/2000/svg\" height=\"24px\"viewBox=\"0 0 24 24\"\n",
              "       width=\"24px\">\n",
              "    <path d=\"M0 0h24v24H0V0z\" fill=\"none\"/>\n",
              "    <path d=\"M18.56 5.44l.94 2.06.94-2.06 2.06-.94-2.06-.94-.94-2.06-.94 2.06-2.06.94zm-11 1L8.5 8.5l.94-2.06 2.06-.94-2.06-.94L8.5 2.5l-.94 2.06-2.06.94zm10 10l.94 2.06.94-2.06 2.06-.94-2.06-.94-.94-2.06-.94 2.06-2.06.94z\"/><path d=\"M17.41 7.96l-1.37-1.37c-.4-.4-.92-.59-1.43-.59-.52 0-1.04.2-1.43.59L10.3 9.45l-7.72 7.72c-.78.78-.78 2.05 0 2.83L4 21.41c.39.39.9.59 1.41.59.51 0 1.02-.2 1.41-.59l7.78-7.78 2.81-2.81c.8-.78.8-2.07 0-2.86zM5.41 20L4 18.59l7.72-7.72 1.47 1.35L5.41 20z\"/>\n",
              "  </svg>\n",
              "      </button>\n",
              "      \n",
              "  <style>\n",
              "    .colab-df-container {\n",
              "      display:flex;\n",
              "      flex-wrap:wrap;\n",
              "      gap: 12px;\n",
              "    }\n",
              "\n",
              "    .colab-df-convert {\n",
              "      background-color: #E8F0FE;\n",
              "      border: none;\n",
              "      border-radius: 50%;\n",
              "      cursor: pointer;\n",
              "      display: none;\n",
              "      fill: #1967D2;\n",
              "      height: 32px;\n",
              "      padding: 0 0 0 0;\n",
              "      width: 32px;\n",
              "    }\n",
              "\n",
              "    .colab-df-convert:hover {\n",
              "      background-color: #E2EBFA;\n",
              "      box-shadow: 0px 1px 2px rgba(60, 64, 67, 0.3), 0px 1px 3px 1px rgba(60, 64, 67, 0.15);\n",
              "      fill: #174EA6;\n",
              "    }\n",
              "\n",
              "    [theme=dark] .colab-df-convert {\n",
              "      background-color: #3B4455;\n",
              "      fill: #D2E3FC;\n",
              "    }\n",
              "\n",
              "    [theme=dark] .colab-df-convert:hover {\n",
              "      background-color: #434B5C;\n",
              "      box-shadow: 0px 1px 3px 1px rgba(0, 0, 0, 0.15);\n",
              "      filter: drop-shadow(0px 1px 2px rgba(0, 0, 0, 0.3));\n",
              "      fill: #FFFFFF;\n",
              "    }\n",
              "  </style>\n",
              "\n",
              "      <script>\n",
              "        const buttonEl =\n",
              "          document.querySelector('#df-a4b4af3a-06e6-42ae-8e57-5aa794de73ed button.colab-df-convert');\n",
              "        buttonEl.style.display =\n",
              "          google.colab.kernel.accessAllowed ? 'block' : 'none';\n",
              "\n",
              "        async function convertToInteractive(key) {\n",
              "          const element = document.querySelector('#df-a4b4af3a-06e6-42ae-8e57-5aa794de73ed');\n",
              "          const dataTable =\n",
              "            await google.colab.kernel.invokeFunction('convertToInteractive',\n",
              "                                                     [key], {});\n",
              "          if (!dataTable) return;\n",
              "\n",
              "          const docLinkHtml = 'Like what you see? Visit the ' +\n",
              "            '<a target=\"_blank\" href=https://colab.research.google.com/notebooks/data_table.ipynb>data table notebook</a>'\n",
              "            + ' to learn more about interactive tables.';\n",
              "          element.innerHTML = '';\n",
              "          dataTable['output_type'] = 'display_data';\n",
              "          await google.colab.output.renderOutput(dataTable, element);\n",
              "          const docLink = document.createElement('div');\n",
              "          docLink.innerHTML = docLinkHtml;\n",
              "          element.appendChild(docLink);\n",
              "        }\n",
              "      </script>\n",
              "    </div>\n",
              "  </div>\n",
              "  "
            ]
          },
          "metadata": {},
          "execution_count": 251
        }
      ]
    },
    {
      "cell_type": "code",
      "source": [
        "train_df.info()"
      ],
      "metadata": {
        "colab": {
          "base_uri": "https://localhost:8080/"
        },
        "id": "C_yapN_pgZX7",
        "outputId": "e267cd3b-c7e4-484c-8a3c-4a14f7300938"
      },
      "execution_count": 252,
      "outputs": [
        {
          "output_type": "stream",
          "name": "stdout",
          "text": [
            "<class 'pandas.core.frame.DataFrame'>\n",
            "Index: 7560 entries, 31/01/12 to nan\n",
            "Data columns (total 11 columns):\n",
            " #   Column     Non-Null Count  Dtype  \n",
            "---  ------     --------------  -----  \n",
            " 0   id         6480 non-null   float64\n",
            " 1   city       6480 non-null   object \n",
            " 2   lat        6429 non-null   float64\n",
            " 3   long       6434 non-null   float64\n",
            " 4   pop        6480 non-null   float64\n",
            " 5   shop       6480 non-null   object \n",
            " 6   brand      6480 non-null   object \n",
            " 7   container  6464 non-null   object \n",
            " 8   capacity   6465 non-null   object \n",
            " 9   price      6480 non-null   float64\n",
            " 10  quantity   6480 non-null   float64\n",
            "dtypes: float64(6), object(5)\n",
            "memory usage: 708.8+ KB\n"
          ]
        }
      ]
    },
    {
      "cell_type": "code",
      "source": [
        "test_df"
      ],
      "metadata": {
        "colab": {
          "base_uri": "https://localhost:8080/",
          "height": 455
        },
        "id": "qm8nM430liKj",
        "outputId": "8ad565a3-8552-45fa-f6cf-a35bd7a1a5d2"
      },
      "execution_count": 253,
      "outputs": [
        {
          "output_type": "execute_result",
          "data": {
            "text/plain": [
              "            id          city       lat      long     pop    shop  \\\n",
              "date                                                               \n",
              "31/01/18  6480        Athens  37.97945  23.71622  664046  shop_1   \n",
              "31/01/18  6481        Athens  37.97945  23.71622  664046  shop_1   \n",
              "31/01/18  6482        Athens  37.97945  23.71622  664046  shop_1   \n",
              "31/01/18  6483        Athens  37.97945  23.71622  664046  shop_1   \n",
              "31/01/18  6484        Athens  37.97945  23.71622  664046  shop_1   \n",
              "...        ...           ...       ...       ...     ...     ...   \n",
              "31/12/18  7555        Athens  37.97945  23.71622  664046  shop_1   \n",
              "31/12/18  7556        Athens  37.97945  23.71622  664046  shop_1   \n",
              "31/12/18  7557         Patra  38.24444  21.73444  168034  shop_6   \n",
              "31/12/18  7558  Thessaloniki  40.64361  22.93086  354290  shop_4   \n",
              "31/12/18  7559     Irakleion  35.32787  25.14341  137154  shop_2   \n",
              "\n",
              "                 brand container capacity  price  quantity  \n",
              "date                                                        \n",
              "31/01/18   kinder-cola   plastic    1.5lt   3.10      7056  \n",
              "31/01/18   kinder-cola       can    330ml   0.85     12490  \n",
              "31/01/18    adult-cola     glass    500ml   0.83     26640  \n",
              "31/01/18  orange-power     glass    500ml   0.54     41892  \n",
              "31/01/18  orange-power   plastic    1.5lt   0.83     22923  \n",
              "...                ...       ...      ...    ...       ...  \n",
              "31/12/18   kinder-cola   plastic    1.5lt   2.52     13760  \n",
              "31/12/18  orange-power   plastic    1.5lt   2.18     16309  \n",
              "31/12/18   kinder-cola       can    330ml   0.85     24378  \n",
              "31/12/18    adult-cola   plastic    1.5lt   2.17     20691  \n",
              "31/12/18    adult-cola     glass    500ml   1.26     24615  \n",
              "\n",
              "[1080 rows x 11 columns]"
            ],
            "text/html": [
              "\n",
              "  <div id=\"df-f01e0952-1c7b-4e57-8311-f0a0f3c2a3b1\">\n",
              "    <div class=\"colab-df-container\">\n",
              "      <div>\n",
              "<style scoped>\n",
              "    .dataframe tbody tr th:only-of-type {\n",
              "        vertical-align: middle;\n",
              "    }\n",
              "\n",
              "    .dataframe tbody tr th {\n",
              "        vertical-align: top;\n",
              "    }\n",
              "\n",
              "    .dataframe thead th {\n",
              "        text-align: right;\n",
              "    }\n",
              "</style>\n",
              "<table border=\"1\" class=\"dataframe\">\n",
              "  <thead>\n",
              "    <tr style=\"text-align: right;\">\n",
              "      <th></th>\n",
              "      <th>id</th>\n",
              "      <th>city</th>\n",
              "      <th>lat</th>\n",
              "      <th>long</th>\n",
              "      <th>pop</th>\n",
              "      <th>shop</th>\n",
              "      <th>brand</th>\n",
              "      <th>container</th>\n",
              "      <th>capacity</th>\n",
              "      <th>price</th>\n",
              "      <th>quantity</th>\n",
              "    </tr>\n",
              "    <tr>\n",
              "      <th>date</th>\n",
              "      <th></th>\n",
              "      <th></th>\n",
              "      <th></th>\n",
              "      <th></th>\n",
              "      <th></th>\n",
              "      <th></th>\n",
              "      <th></th>\n",
              "      <th></th>\n",
              "      <th></th>\n",
              "      <th></th>\n",
              "      <th></th>\n",
              "    </tr>\n",
              "  </thead>\n",
              "  <tbody>\n",
              "    <tr>\n",
              "      <th>31/01/18</th>\n",
              "      <td>6480</td>\n",
              "      <td>Athens</td>\n",
              "      <td>37.97945</td>\n",
              "      <td>23.71622</td>\n",
              "      <td>664046</td>\n",
              "      <td>shop_1</td>\n",
              "      <td>kinder-cola</td>\n",
              "      <td>plastic</td>\n",
              "      <td>1.5lt</td>\n",
              "      <td>3.10</td>\n",
              "      <td>7056</td>\n",
              "    </tr>\n",
              "    <tr>\n",
              "      <th>31/01/18</th>\n",
              "      <td>6481</td>\n",
              "      <td>Athens</td>\n",
              "      <td>37.97945</td>\n",
              "      <td>23.71622</td>\n",
              "      <td>664046</td>\n",
              "      <td>shop_1</td>\n",
              "      <td>kinder-cola</td>\n",
              "      <td>can</td>\n",
              "      <td>330ml</td>\n",
              "      <td>0.85</td>\n",
              "      <td>12490</td>\n",
              "    </tr>\n",
              "    <tr>\n",
              "      <th>31/01/18</th>\n",
              "      <td>6482</td>\n",
              "      <td>Athens</td>\n",
              "      <td>37.97945</td>\n",
              "      <td>23.71622</td>\n",
              "      <td>664046</td>\n",
              "      <td>shop_1</td>\n",
              "      <td>adult-cola</td>\n",
              "      <td>glass</td>\n",
              "      <td>500ml</td>\n",
              "      <td>0.83</td>\n",
              "      <td>26640</td>\n",
              "    </tr>\n",
              "    <tr>\n",
              "      <th>31/01/18</th>\n",
              "      <td>6483</td>\n",
              "      <td>Athens</td>\n",
              "      <td>37.97945</td>\n",
              "      <td>23.71622</td>\n",
              "      <td>664046</td>\n",
              "      <td>shop_1</td>\n",
              "      <td>orange-power</td>\n",
              "      <td>glass</td>\n",
              "      <td>500ml</td>\n",
              "      <td>0.54</td>\n",
              "      <td>41892</td>\n",
              "    </tr>\n",
              "    <tr>\n",
              "      <th>31/01/18</th>\n",
              "      <td>6484</td>\n",
              "      <td>Athens</td>\n",
              "      <td>37.97945</td>\n",
              "      <td>23.71622</td>\n",
              "      <td>664046</td>\n",
              "      <td>shop_1</td>\n",
              "      <td>orange-power</td>\n",
              "      <td>plastic</td>\n",
              "      <td>1.5lt</td>\n",
              "      <td>0.83</td>\n",
              "      <td>22923</td>\n",
              "    </tr>\n",
              "    <tr>\n",
              "      <th>...</th>\n",
              "      <td>...</td>\n",
              "      <td>...</td>\n",
              "      <td>...</td>\n",
              "      <td>...</td>\n",
              "      <td>...</td>\n",
              "      <td>...</td>\n",
              "      <td>...</td>\n",
              "      <td>...</td>\n",
              "      <td>...</td>\n",
              "      <td>...</td>\n",
              "      <td>...</td>\n",
              "    </tr>\n",
              "    <tr>\n",
              "      <th>31/12/18</th>\n",
              "      <td>7555</td>\n",
              "      <td>Athens</td>\n",
              "      <td>37.97945</td>\n",
              "      <td>23.71622</td>\n",
              "      <td>664046</td>\n",
              "      <td>shop_1</td>\n",
              "      <td>kinder-cola</td>\n",
              "      <td>plastic</td>\n",
              "      <td>1.5lt</td>\n",
              "      <td>2.52</td>\n",
              "      <td>13760</td>\n",
              "    </tr>\n",
              "    <tr>\n",
              "      <th>31/12/18</th>\n",
              "      <td>7556</td>\n",
              "      <td>Athens</td>\n",
              "      <td>37.97945</td>\n",
              "      <td>23.71622</td>\n",
              "      <td>664046</td>\n",
              "      <td>shop_1</td>\n",
              "      <td>orange-power</td>\n",
              "      <td>plastic</td>\n",
              "      <td>1.5lt</td>\n",
              "      <td>2.18</td>\n",
              "      <td>16309</td>\n",
              "    </tr>\n",
              "    <tr>\n",
              "      <th>31/12/18</th>\n",
              "      <td>7557</td>\n",
              "      <td>Patra</td>\n",
              "      <td>38.24444</td>\n",
              "      <td>21.73444</td>\n",
              "      <td>168034</td>\n",
              "      <td>shop_6</td>\n",
              "      <td>kinder-cola</td>\n",
              "      <td>can</td>\n",
              "      <td>330ml</td>\n",
              "      <td>0.85</td>\n",
              "      <td>24378</td>\n",
              "    </tr>\n",
              "    <tr>\n",
              "      <th>31/12/18</th>\n",
              "      <td>7558</td>\n",
              "      <td>Thessaloniki</td>\n",
              "      <td>40.64361</td>\n",
              "      <td>22.93086</td>\n",
              "      <td>354290</td>\n",
              "      <td>shop_4</td>\n",
              "      <td>adult-cola</td>\n",
              "      <td>plastic</td>\n",
              "      <td>1.5lt</td>\n",
              "      <td>2.17</td>\n",
              "      <td>20691</td>\n",
              "    </tr>\n",
              "    <tr>\n",
              "      <th>31/12/18</th>\n",
              "      <td>7559</td>\n",
              "      <td>Irakleion</td>\n",
              "      <td>35.32787</td>\n",
              "      <td>25.14341</td>\n",
              "      <td>137154</td>\n",
              "      <td>shop_2</td>\n",
              "      <td>adult-cola</td>\n",
              "      <td>glass</td>\n",
              "      <td>500ml</td>\n",
              "      <td>1.26</td>\n",
              "      <td>24615</td>\n",
              "    </tr>\n",
              "  </tbody>\n",
              "</table>\n",
              "<p>1080 rows × 11 columns</p>\n",
              "</div>\n",
              "      <button class=\"colab-df-convert\" onclick=\"convertToInteractive('df-f01e0952-1c7b-4e57-8311-f0a0f3c2a3b1')\"\n",
              "              title=\"Convert this dataframe to an interactive table.\"\n",
              "              style=\"display:none;\">\n",
              "        \n",
              "  <svg xmlns=\"http://www.w3.org/2000/svg\" height=\"24px\"viewBox=\"0 0 24 24\"\n",
              "       width=\"24px\">\n",
              "    <path d=\"M0 0h24v24H0V0z\" fill=\"none\"/>\n",
              "    <path d=\"M18.56 5.44l.94 2.06.94-2.06 2.06-.94-2.06-.94-.94-2.06-.94 2.06-2.06.94zm-11 1L8.5 8.5l.94-2.06 2.06-.94-2.06-.94L8.5 2.5l-.94 2.06-2.06.94zm10 10l.94 2.06.94-2.06 2.06-.94-2.06-.94-.94-2.06-.94 2.06-2.06.94z\"/><path d=\"M17.41 7.96l-1.37-1.37c-.4-.4-.92-.59-1.43-.59-.52 0-1.04.2-1.43.59L10.3 9.45l-7.72 7.72c-.78.78-.78 2.05 0 2.83L4 21.41c.39.39.9.59 1.41.59.51 0 1.02-.2 1.41-.59l7.78-7.78 2.81-2.81c.8-.78.8-2.07 0-2.86zM5.41 20L4 18.59l7.72-7.72 1.47 1.35L5.41 20z\"/>\n",
              "  </svg>\n",
              "      </button>\n",
              "      \n",
              "  <style>\n",
              "    .colab-df-container {\n",
              "      display:flex;\n",
              "      flex-wrap:wrap;\n",
              "      gap: 12px;\n",
              "    }\n",
              "\n",
              "    .colab-df-convert {\n",
              "      background-color: #E8F0FE;\n",
              "      border: none;\n",
              "      border-radius: 50%;\n",
              "      cursor: pointer;\n",
              "      display: none;\n",
              "      fill: #1967D2;\n",
              "      height: 32px;\n",
              "      padding: 0 0 0 0;\n",
              "      width: 32px;\n",
              "    }\n",
              "\n",
              "    .colab-df-convert:hover {\n",
              "      background-color: #E2EBFA;\n",
              "      box-shadow: 0px 1px 2px rgba(60, 64, 67, 0.3), 0px 1px 3px 1px rgba(60, 64, 67, 0.15);\n",
              "      fill: #174EA6;\n",
              "    }\n",
              "\n",
              "    [theme=dark] .colab-df-convert {\n",
              "      background-color: #3B4455;\n",
              "      fill: #D2E3FC;\n",
              "    }\n",
              "\n",
              "    [theme=dark] .colab-df-convert:hover {\n",
              "      background-color: #434B5C;\n",
              "      box-shadow: 0px 1px 3px 1px rgba(0, 0, 0, 0.15);\n",
              "      filter: drop-shadow(0px 1px 2px rgba(0, 0, 0, 0.3));\n",
              "      fill: #FFFFFF;\n",
              "    }\n",
              "  </style>\n",
              "\n",
              "      <script>\n",
              "        const buttonEl =\n",
              "          document.querySelector('#df-f01e0952-1c7b-4e57-8311-f0a0f3c2a3b1 button.colab-df-convert');\n",
              "        buttonEl.style.display =\n",
              "          google.colab.kernel.accessAllowed ? 'block' : 'none';\n",
              "\n",
              "        async function convertToInteractive(key) {\n",
              "          const element = document.querySelector('#df-f01e0952-1c7b-4e57-8311-f0a0f3c2a3b1');\n",
              "          const dataTable =\n",
              "            await google.colab.kernel.invokeFunction('convertToInteractive',\n",
              "                                                     [key], {});\n",
              "          if (!dataTable) return;\n",
              "\n",
              "          const docLinkHtml = 'Like what you see? Visit the ' +\n",
              "            '<a target=\"_blank\" href=https://colab.research.google.com/notebooks/data_table.ipynb>data table notebook</a>'\n",
              "            + ' to learn more about interactive tables.';\n",
              "          element.innerHTML = '';\n",
              "          dataTable['output_type'] = 'display_data';\n",
              "          await google.colab.output.renderOutput(dataTable, element);\n",
              "          const docLink = document.createElement('div');\n",
              "          docLink.innerHTML = docLinkHtml;\n",
              "          element.appendChild(docLink);\n",
              "        }\n",
              "      </script>\n",
              "    </div>\n",
              "  </div>\n",
              "  "
            ]
          },
          "metadata": {},
          "execution_count": 253
        }
      ]
    },
    {
      "cell_type": "code",
      "source": [
        "test_df.info()"
      ],
      "metadata": {
        "colab": {
          "base_uri": "https://localhost:8080/"
        },
        "id": "Yys8bhqEliHu",
        "outputId": "ecb38c8d-56e0-4191-8808-3517e7bd0b4d"
      },
      "execution_count": 254,
      "outputs": [
        {
          "output_type": "stream",
          "name": "stdout",
          "text": [
            "<class 'pandas.core.frame.DataFrame'>\n",
            "Index: 1080 entries, 31/01/18 to 31/12/18\n",
            "Data columns (total 11 columns):\n",
            " #   Column     Non-Null Count  Dtype  \n",
            "---  ------     --------------  -----  \n",
            " 0   id         1080 non-null   int64  \n",
            " 1   city       1080 non-null   object \n",
            " 2   lat        1072 non-null   float64\n",
            " 3   long       1067 non-null   float64\n",
            " 4   pop        1080 non-null   int64  \n",
            " 5   shop       1080 non-null   object \n",
            " 6   brand      1080 non-null   object \n",
            " 7   container  1077 non-null   object \n",
            " 8   capacity   1076 non-null   object \n",
            " 9   price      1080 non-null   float64\n",
            " 10  quantity   1080 non-null   int64  \n",
            "dtypes: float64(3), int64(3), object(5)\n",
            "memory usage: 101.2+ KB\n"
          ]
        }
      ]
    },
    {
      "cell_type": "code",
      "source": [
        "#to get statistical insights about our train data.\n",
        "train_df.describe()"
      ],
      "metadata": {
        "colab": {
          "base_uri": "https://localhost:8080/",
          "height": 300
        },
        "id": "1nr_XaevnBFo",
        "outputId": "6d792cd6-f46f-4520-ebd1-646c79a0f8bd"
      },
      "execution_count": 255,
      "outputs": [
        {
          "output_type": "execute_result",
          "data": {
            "text/plain": [
              "                id          lat         long            pop        price  \\\n",
              "count  6480.000000  6429.000000  6434.000000    6480.000000  6480.000000   \n",
              "mean   3239.500000    38.301238    23.270246  355141.416667     1.188981   \n",
              "std    1870.759204     1.649771     1.086960  232828.796289     0.814567   \n",
              "min       0.000000    35.327870    21.734440  134219.000000     0.110000   \n",
              "25%    1619.750000    37.962450    22.417610  141439.750000     0.610000   \n",
              "50%    3239.500000    38.244440    22.930860  257501.500000     0.920000   \n",
              "75%    4859.250000    39.636890    23.716220  665871.000000     1.500000   \n",
              "max    6479.000000    40.643610    25.143410  672130.000000     4.540000   \n",
              "\n",
              "            quantity  \n",
              "count    6480.000000  \n",
              "mean    29431.855093  \n",
              "std     17901.328301  \n",
              "min      2953.000000  \n",
              "25%     16441.750000  \n",
              "50%     25184.000000  \n",
              "75%     37866.000000  \n",
              "max    145287.000000  "
            ],
            "text/html": [
              "\n",
              "  <div id=\"df-1f306664-5bdf-4671-8226-e9fe112e940d\">\n",
              "    <div class=\"colab-df-container\">\n",
              "      <div>\n",
              "<style scoped>\n",
              "    .dataframe tbody tr th:only-of-type {\n",
              "        vertical-align: middle;\n",
              "    }\n",
              "\n",
              "    .dataframe tbody tr th {\n",
              "        vertical-align: top;\n",
              "    }\n",
              "\n",
              "    .dataframe thead th {\n",
              "        text-align: right;\n",
              "    }\n",
              "</style>\n",
              "<table border=\"1\" class=\"dataframe\">\n",
              "  <thead>\n",
              "    <tr style=\"text-align: right;\">\n",
              "      <th></th>\n",
              "      <th>id</th>\n",
              "      <th>lat</th>\n",
              "      <th>long</th>\n",
              "      <th>pop</th>\n",
              "      <th>price</th>\n",
              "      <th>quantity</th>\n",
              "    </tr>\n",
              "  </thead>\n",
              "  <tbody>\n",
              "    <tr>\n",
              "      <th>count</th>\n",
              "      <td>6480.000000</td>\n",
              "      <td>6429.000000</td>\n",
              "      <td>6434.000000</td>\n",
              "      <td>6480.000000</td>\n",
              "      <td>6480.000000</td>\n",
              "      <td>6480.000000</td>\n",
              "    </tr>\n",
              "    <tr>\n",
              "      <th>mean</th>\n",
              "      <td>3239.500000</td>\n",
              "      <td>38.301238</td>\n",
              "      <td>23.270246</td>\n",
              "      <td>355141.416667</td>\n",
              "      <td>1.188981</td>\n",
              "      <td>29431.855093</td>\n",
              "    </tr>\n",
              "    <tr>\n",
              "      <th>std</th>\n",
              "      <td>1870.759204</td>\n",
              "      <td>1.649771</td>\n",
              "      <td>1.086960</td>\n",
              "      <td>232828.796289</td>\n",
              "      <td>0.814567</td>\n",
              "      <td>17901.328301</td>\n",
              "    </tr>\n",
              "    <tr>\n",
              "      <th>min</th>\n",
              "      <td>0.000000</td>\n",
              "      <td>35.327870</td>\n",
              "      <td>21.734440</td>\n",
              "      <td>134219.000000</td>\n",
              "      <td>0.110000</td>\n",
              "      <td>2953.000000</td>\n",
              "    </tr>\n",
              "    <tr>\n",
              "      <th>25%</th>\n",
              "      <td>1619.750000</td>\n",
              "      <td>37.962450</td>\n",
              "      <td>22.417610</td>\n",
              "      <td>141439.750000</td>\n",
              "      <td>0.610000</td>\n",
              "      <td>16441.750000</td>\n",
              "    </tr>\n",
              "    <tr>\n",
              "      <th>50%</th>\n",
              "      <td>3239.500000</td>\n",
              "      <td>38.244440</td>\n",
              "      <td>22.930860</td>\n",
              "      <td>257501.500000</td>\n",
              "      <td>0.920000</td>\n",
              "      <td>25184.000000</td>\n",
              "    </tr>\n",
              "    <tr>\n",
              "      <th>75%</th>\n",
              "      <td>4859.250000</td>\n",
              "      <td>39.636890</td>\n",
              "      <td>23.716220</td>\n",
              "      <td>665871.000000</td>\n",
              "      <td>1.500000</td>\n",
              "      <td>37866.000000</td>\n",
              "    </tr>\n",
              "    <tr>\n",
              "      <th>max</th>\n",
              "      <td>6479.000000</td>\n",
              "      <td>40.643610</td>\n",
              "      <td>25.143410</td>\n",
              "      <td>672130.000000</td>\n",
              "      <td>4.540000</td>\n",
              "      <td>145287.000000</td>\n",
              "    </tr>\n",
              "  </tbody>\n",
              "</table>\n",
              "</div>\n",
              "      <button class=\"colab-df-convert\" onclick=\"convertToInteractive('df-1f306664-5bdf-4671-8226-e9fe112e940d')\"\n",
              "              title=\"Convert this dataframe to an interactive table.\"\n",
              "              style=\"display:none;\">\n",
              "        \n",
              "  <svg xmlns=\"http://www.w3.org/2000/svg\" height=\"24px\"viewBox=\"0 0 24 24\"\n",
              "       width=\"24px\">\n",
              "    <path d=\"M0 0h24v24H0V0z\" fill=\"none\"/>\n",
              "    <path d=\"M18.56 5.44l.94 2.06.94-2.06 2.06-.94-2.06-.94-.94-2.06-.94 2.06-2.06.94zm-11 1L8.5 8.5l.94-2.06 2.06-.94-2.06-.94L8.5 2.5l-.94 2.06-2.06.94zm10 10l.94 2.06.94-2.06 2.06-.94-2.06-.94-.94-2.06-.94 2.06-2.06.94z\"/><path d=\"M17.41 7.96l-1.37-1.37c-.4-.4-.92-.59-1.43-.59-.52 0-1.04.2-1.43.59L10.3 9.45l-7.72 7.72c-.78.78-.78 2.05 0 2.83L4 21.41c.39.39.9.59 1.41.59.51 0 1.02-.2 1.41-.59l7.78-7.78 2.81-2.81c.8-.78.8-2.07 0-2.86zM5.41 20L4 18.59l7.72-7.72 1.47 1.35L5.41 20z\"/>\n",
              "  </svg>\n",
              "      </button>\n",
              "      \n",
              "  <style>\n",
              "    .colab-df-container {\n",
              "      display:flex;\n",
              "      flex-wrap:wrap;\n",
              "      gap: 12px;\n",
              "    }\n",
              "\n",
              "    .colab-df-convert {\n",
              "      background-color: #E8F0FE;\n",
              "      border: none;\n",
              "      border-radius: 50%;\n",
              "      cursor: pointer;\n",
              "      display: none;\n",
              "      fill: #1967D2;\n",
              "      height: 32px;\n",
              "      padding: 0 0 0 0;\n",
              "      width: 32px;\n",
              "    }\n",
              "\n",
              "    .colab-df-convert:hover {\n",
              "      background-color: #E2EBFA;\n",
              "      box-shadow: 0px 1px 2px rgba(60, 64, 67, 0.3), 0px 1px 3px 1px rgba(60, 64, 67, 0.15);\n",
              "      fill: #174EA6;\n",
              "    }\n",
              "\n",
              "    [theme=dark] .colab-df-convert {\n",
              "      background-color: #3B4455;\n",
              "      fill: #D2E3FC;\n",
              "    }\n",
              "\n",
              "    [theme=dark] .colab-df-convert:hover {\n",
              "      background-color: #434B5C;\n",
              "      box-shadow: 0px 1px 3px 1px rgba(0, 0, 0, 0.15);\n",
              "      filter: drop-shadow(0px 1px 2px rgba(0, 0, 0, 0.3));\n",
              "      fill: #FFFFFF;\n",
              "    }\n",
              "  </style>\n",
              "\n",
              "      <script>\n",
              "        const buttonEl =\n",
              "          document.querySelector('#df-1f306664-5bdf-4671-8226-e9fe112e940d button.colab-df-convert');\n",
              "        buttonEl.style.display =\n",
              "          google.colab.kernel.accessAllowed ? 'block' : 'none';\n",
              "\n",
              "        async function convertToInteractive(key) {\n",
              "          const element = document.querySelector('#df-1f306664-5bdf-4671-8226-e9fe112e940d');\n",
              "          const dataTable =\n",
              "            await google.colab.kernel.invokeFunction('convertToInteractive',\n",
              "                                                     [key], {});\n",
              "          if (!dataTable) return;\n",
              "\n",
              "          const docLinkHtml = 'Like what you see? Visit the ' +\n",
              "            '<a target=\"_blank\" href=https://colab.research.google.com/notebooks/data_table.ipynb>data table notebook</a>'\n",
              "            + ' to learn more about interactive tables.';\n",
              "          element.innerHTML = '';\n",
              "          dataTable['output_type'] = 'display_data';\n",
              "          await google.colab.output.renderOutput(dataTable, element);\n",
              "          const docLink = document.createElement('div');\n",
              "          docLink.innerHTML = docLinkHtml;\n",
              "          element.appendChild(docLink);\n",
              "        }\n",
              "      </script>\n",
              "    </div>\n",
              "  </div>\n",
              "  "
            ]
          },
          "metadata": {},
          "execution_count": 255
        }
      ]
    },
    {
      "cell_type": "markdown",
      "source": [
        "* Therefore there are totally 6480 values in our train data"
      ],
      "metadata": {
        "id": "l4tBAI6lp5Y1"
      }
    },
    {
      "cell_type": "code",
      "source": [
        "#to get statistical insights for our test data\n",
        "test_df.describe()"
      ],
      "metadata": {
        "colab": {
          "base_uri": "https://localhost:8080/",
          "height": 300
        },
        "id": "VMUmLgP2nBCx",
        "outputId": "b5aa55e1-c23e-4d8e-9d74-e3dcaa0fcc10"
      },
      "execution_count": 256,
      "outputs": [
        {
          "output_type": "execute_result",
          "data": {
            "text/plain": [
              "               id          lat         long            pop        price  \\\n",
              "count  1080.00000  1072.000000  1067.000000    1080.000000  1080.000000   \n",
              "mean   7019.50000    38.298228    23.269862  355370.166667     1.238454   \n",
              "std     311.91345     1.655656     1.088977  230207.452873     0.829449   \n",
              "min    6480.00000    35.327870    21.734440  137154.000000     0.230000   \n",
              "25%    6749.75000    37.962450    22.417610  144651.000000     0.650000   \n",
              "50%    7019.50000    38.244440    22.930860  261162.000000     0.980000   \n",
              "75%    7289.25000    39.636890    23.716220  664046.000000     1.555000   \n",
              "max    7559.00000    40.643610    25.143410  664046.000000     4.790000   \n",
              "\n",
              "            quantity  \n",
              "count    1080.000000  \n",
              "mean    29360.875926  \n",
              "std     16182.538761  \n",
              "min      3523.000000  \n",
              "25%     17229.750000  \n",
              "50%     26010.500000  \n",
              "75%     37421.750000  \n",
              "max    116612.000000  "
            ],
            "text/html": [
              "\n",
              "  <div id=\"df-06dcff1b-4481-4c01-a1df-a526323b0413\">\n",
              "    <div class=\"colab-df-container\">\n",
              "      <div>\n",
              "<style scoped>\n",
              "    .dataframe tbody tr th:only-of-type {\n",
              "        vertical-align: middle;\n",
              "    }\n",
              "\n",
              "    .dataframe tbody tr th {\n",
              "        vertical-align: top;\n",
              "    }\n",
              "\n",
              "    .dataframe thead th {\n",
              "        text-align: right;\n",
              "    }\n",
              "</style>\n",
              "<table border=\"1\" class=\"dataframe\">\n",
              "  <thead>\n",
              "    <tr style=\"text-align: right;\">\n",
              "      <th></th>\n",
              "      <th>id</th>\n",
              "      <th>lat</th>\n",
              "      <th>long</th>\n",
              "      <th>pop</th>\n",
              "      <th>price</th>\n",
              "      <th>quantity</th>\n",
              "    </tr>\n",
              "  </thead>\n",
              "  <tbody>\n",
              "    <tr>\n",
              "      <th>count</th>\n",
              "      <td>1080.00000</td>\n",
              "      <td>1072.000000</td>\n",
              "      <td>1067.000000</td>\n",
              "      <td>1080.000000</td>\n",
              "      <td>1080.000000</td>\n",
              "      <td>1080.000000</td>\n",
              "    </tr>\n",
              "    <tr>\n",
              "      <th>mean</th>\n",
              "      <td>7019.50000</td>\n",
              "      <td>38.298228</td>\n",
              "      <td>23.269862</td>\n",
              "      <td>355370.166667</td>\n",
              "      <td>1.238454</td>\n",
              "      <td>29360.875926</td>\n",
              "    </tr>\n",
              "    <tr>\n",
              "      <th>std</th>\n",
              "      <td>311.91345</td>\n",
              "      <td>1.655656</td>\n",
              "      <td>1.088977</td>\n",
              "      <td>230207.452873</td>\n",
              "      <td>0.829449</td>\n",
              "      <td>16182.538761</td>\n",
              "    </tr>\n",
              "    <tr>\n",
              "      <th>min</th>\n",
              "      <td>6480.00000</td>\n",
              "      <td>35.327870</td>\n",
              "      <td>21.734440</td>\n",
              "      <td>137154.000000</td>\n",
              "      <td>0.230000</td>\n",
              "      <td>3523.000000</td>\n",
              "    </tr>\n",
              "    <tr>\n",
              "      <th>25%</th>\n",
              "      <td>6749.75000</td>\n",
              "      <td>37.962450</td>\n",
              "      <td>22.417610</td>\n",
              "      <td>144651.000000</td>\n",
              "      <td>0.650000</td>\n",
              "      <td>17229.750000</td>\n",
              "    </tr>\n",
              "    <tr>\n",
              "      <th>50%</th>\n",
              "      <td>7019.50000</td>\n",
              "      <td>38.244440</td>\n",
              "      <td>22.930860</td>\n",
              "      <td>261162.000000</td>\n",
              "      <td>0.980000</td>\n",
              "      <td>26010.500000</td>\n",
              "    </tr>\n",
              "    <tr>\n",
              "      <th>75%</th>\n",
              "      <td>7289.25000</td>\n",
              "      <td>39.636890</td>\n",
              "      <td>23.716220</td>\n",
              "      <td>664046.000000</td>\n",
              "      <td>1.555000</td>\n",
              "      <td>37421.750000</td>\n",
              "    </tr>\n",
              "    <tr>\n",
              "      <th>max</th>\n",
              "      <td>7559.00000</td>\n",
              "      <td>40.643610</td>\n",
              "      <td>25.143410</td>\n",
              "      <td>664046.000000</td>\n",
              "      <td>4.790000</td>\n",
              "      <td>116612.000000</td>\n",
              "    </tr>\n",
              "  </tbody>\n",
              "</table>\n",
              "</div>\n",
              "      <button class=\"colab-df-convert\" onclick=\"convertToInteractive('df-06dcff1b-4481-4c01-a1df-a526323b0413')\"\n",
              "              title=\"Convert this dataframe to an interactive table.\"\n",
              "              style=\"display:none;\">\n",
              "        \n",
              "  <svg xmlns=\"http://www.w3.org/2000/svg\" height=\"24px\"viewBox=\"0 0 24 24\"\n",
              "       width=\"24px\">\n",
              "    <path d=\"M0 0h24v24H0V0z\" fill=\"none\"/>\n",
              "    <path d=\"M18.56 5.44l.94 2.06.94-2.06 2.06-.94-2.06-.94-.94-2.06-.94 2.06-2.06.94zm-11 1L8.5 8.5l.94-2.06 2.06-.94-2.06-.94L8.5 2.5l-.94 2.06-2.06.94zm10 10l.94 2.06.94-2.06 2.06-.94-2.06-.94-.94-2.06-.94 2.06-2.06.94z\"/><path d=\"M17.41 7.96l-1.37-1.37c-.4-.4-.92-.59-1.43-.59-.52 0-1.04.2-1.43.59L10.3 9.45l-7.72 7.72c-.78.78-.78 2.05 0 2.83L4 21.41c.39.39.9.59 1.41.59.51 0 1.02-.2 1.41-.59l7.78-7.78 2.81-2.81c.8-.78.8-2.07 0-2.86zM5.41 20L4 18.59l7.72-7.72 1.47 1.35L5.41 20z\"/>\n",
              "  </svg>\n",
              "      </button>\n",
              "      \n",
              "  <style>\n",
              "    .colab-df-container {\n",
              "      display:flex;\n",
              "      flex-wrap:wrap;\n",
              "      gap: 12px;\n",
              "    }\n",
              "\n",
              "    .colab-df-convert {\n",
              "      background-color: #E8F0FE;\n",
              "      border: none;\n",
              "      border-radius: 50%;\n",
              "      cursor: pointer;\n",
              "      display: none;\n",
              "      fill: #1967D2;\n",
              "      height: 32px;\n",
              "      padding: 0 0 0 0;\n",
              "      width: 32px;\n",
              "    }\n",
              "\n",
              "    .colab-df-convert:hover {\n",
              "      background-color: #E2EBFA;\n",
              "      box-shadow: 0px 1px 2px rgba(60, 64, 67, 0.3), 0px 1px 3px 1px rgba(60, 64, 67, 0.15);\n",
              "      fill: #174EA6;\n",
              "    }\n",
              "\n",
              "    [theme=dark] .colab-df-convert {\n",
              "      background-color: #3B4455;\n",
              "      fill: #D2E3FC;\n",
              "    }\n",
              "\n",
              "    [theme=dark] .colab-df-convert:hover {\n",
              "      background-color: #434B5C;\n",
              "      box-shadow: 0px 1px 3px 1px rgba(0, 0, 0, 0.15);\n",
              "      filter: drop-shadow(0px 1px 2px rgba(0, 0, 0, 0.3));\n",
              "      fill: #FFFFFF;\n",
              "    }\n",
              "  </style>\n",
              "\n",
              "      <script>\n",
              "        const buttonEl =\n",
              "          document.querySelector('#df-06dcff1b-4481-4c01-a1df-a526323b0413 button.colab-df-convert');\n",
              "        buttonEl.style.display =\n",
              "          google.colab.kernel.accessAllowed ? 'block' : 'none';\n",
              "\n",
              "        async function convertToInteractive(key) {\n",
              "          const element = document.querySelector('#df-06dcff1b-4481-4c01-a1df-a526323b0413');\n",
              "          const dataTable =\n",
              "            await google.colab.kernel.invokeFunction('convertToInteractive',\n",
              "                                                     [key], {});\n",
              "          if (!dataTable) return;\n",
              "\n",
              "          const docLinkHtml = 'Like what you see? Visit the ' +\n",
              "            '<a target=\"_blank\" href=https://colab.research.google.com/notebooks/data_table.ipynb>data table notebook</a>'\n",
              "            + ' to learn more about interactive tables.';\n",
              "          element.innerHTML = '';\n",
              "          dataTable['output_type'] = 'display_data';\n",
              "          await google.colab.output.renderOutput(dataTable, element);\n",
              "          const docLink = document.createElement('div');\n",
              "          docLink.innerHTML = docLinkHtml;\n",
              "          element.appendChild(docLink);\n",
              "        }\n",
              "      </script>\n",
              "    </div>\n",
              "  </div>\n",
              "  "
            ]
          },
          "metadata": {},
          "execution_count": 256
        }
      ]
    },
    {
      "cell_type": "markdown",
      "source": [
        "* There are totally 1080 values in our test data"
      ],
      "metadata": {
        "id": "8Pm_jcHJqXor"
      }
    },
    {
      "cell_type": "markdown",
      "source": [
        "###Data cleaning\n"
      ],
      "metadata": {
        "id": "pdXN84F-qp2P"
      }
    },
    {
      "cell_type": "markdown",
      "source": [
        "###Romving the unwanted columns in the dataset"
      ],
      "metadata": {
        "id": "qPF-Y8LP8GAb"
      }
    },
    {
      "cell_type": "code",
      "source": [
        "# Converting the index to datetime format. \n",
        "train_df.index = pd.to_datetime(train_df.index)\n",
        "test_df.index = pd.to_datetime(test_df.index)\n",
        "\n",
        "# for a regular index structure, unlike the DateTime-based index in the train DataFrame\n",
        "train_regular_indexed = pd.read_csv(\"/content/train.csv\")\n",
        "\n",
        "\n",
        "data1  = train_df.copy(deep = True) # We create a new value of train to mess around with, while keeping train intact.\n",
        "\n",
        "# Create a list of all the dataframes, for cleaning the Data.\n",
        "data_items3 = [data1,test_df,train_regular_indexed] "
      ],
      "metadata": {
        "id": "zXW-JoEbnA8b"
      },
      "execution_count": 257,
      "outputs": []
    },
    {
      "cell_type": "code",
      "source": [
        "#to drop the id column which is not required for our prediction\n",
        "for data in data_items3:\n",
        "    \n",
        "    data.drop(columns = ['id', 'lat', 'long'], inplace = True)"
      ],
      "metadata": {
        "id": "Mr8w1wtunA4c"
      },
      "execution_count": 258,
      "outputs": []
    },
    {
      "cell_type": "code",
      "source": [
        "data.info()\n"
      ],
      "metadata": {
        "colab": {
          "base_uri": "https://localhost:8080/"
        },
        "id": "a6-vVu_GnAyW",
        "outputId": "a847e4b1-1fb0-41bc-c017-c37d3f12fcc6"
      },
      "execution_count": 259,
      "outputs": [
        {
          "output_type": "stream",
          "name": "stdout",
          "text": [
            "<class 'pandas.core.frame.DataFrame'>\n",
            "RangeIndex: 7560 entries, 0 to 7559\n",
            "Data columns (total 9 columns):\n",
            " #   Column     Non-Null Count  Dtype  \n",
            "---  ------     --------------  -----  \n",
            " 0   date       6480 non-null   object \n",
            " 1   city       6480 non-null   object \n",
            " 2   pop        6480 non-null   float64\n",
            " 3   shop       6480 non-null   object \n",
            " 4   brand      6480 non-null   object \n",
            " 5   container  6464 non-null   object \n",
            " 6   capacity   6465 non-null   object \n",
            " 7   price      6480 non-null   float64\n",
            " 8   quantity   6480 non-null   float64\n",
            "dtypes: float64(3), object(6)\n",
            "memory usage: 531.7+ KB\n"
          ]
        }
      ]
    },
    {
      "cell_type": "markdown",
      "source": [
        "* Here we can see that the id column is not available "
      ],
      "metadata": {
        "id": "ZXTsSyV78nea"
      }
    },
    {
      "cell_type": "markdown",
      "source": [
        "###Handling the ***null values***"
      ],
      "metadata": {
        "id": "YUqpuV2t8wWW"
      }
    },
    {
      "cell_type": "code",
      "source": [
        "print(data.isnull().sum())"
      ],
      "metadata": {
        "colab": {
          "base_uri": "https://localhost:8080/"
        },
        "id": "Sdzw1GW_nAvW",
        "outputId": "76565063-c2d6-40a1-bbee-9b2528bb9459"
      },
      "execution_count": 260,
      "outputs": [
        {
          "output_type": "stream",
          "name": "stdout",
          "text": [
            "date         1080\n",
            "city         1080\n",
            "pop          1080\n",
            "shop         1080\n",
            "brand        1080\n",
            "container    1096\n",
            "capacity     1095\n",
            "price        1080\n",
            "quantity     1080\n",
            "dtype: int64\n"
          ]
        }
      ]
    },
    {
      "cell_type": "code",
      "source": [
        "#to drop the null values \n",
        "for data in data_items3:\n",
        "    #drop all the values after 6480\n",
        "    data.drop(data.index[6480:],inplace = True)\n",
        "    # drop all the rows with null values  \n",
        "    data.dropna(axis = 0, how = 'any',inplace = True) "
      ],
      "metadata": {
        "id": "jBrQFuDJnAtT"
      },
      "execution_count": 261,
      "outputs": []
    },
    {
      "cell_type": "code",
      "source": [
        "data.isnull().sum()"
      ],
      "metadata": {
        "colab": {
          "base_uri": "https://localhost:8080/"
        },
        "id": "il2wvO8wm_gh",
        "outputId": "3bf475e3-ac93-4b90-fa06-92ea6bcd35e2"
      },
      "execution_count": 262,
      "outputs": [
        {
          "output_type": "execute_result",
          "data": {
            "text/plain": [
              "date         0\n",
              "city         0\n",
              "pop          0\n",
              "shop         0\n",
              "brand        0\n",
              "container    0\n",
              "capacity     0\n",
              "price        0\n",
              "quantity     0\n",
              "dtype: int64"
            ]
          },
          "metadata": {},
          "execution_count": 262
        }
      ]
    },
    {
      "cell_type": "markdown",
      "source": [
        "* Therefore all the null values has be dropped from the dataframe"
      ],
      "metadata": {
        "id": "IRvzTQ9PFrX2"
      }
    },
    {
      "cell_type": "code",
      "source": [
        "data.info()"
      ],
      "metadata": {
        "colab": {
          "base_uri": "https://localhost:8080/"
        },
        "id": "tMWc9tTNliEr",
        "outputId": "5902eca8-782c-4b72-def4-e03db2cc7f52"
      },
      "execution_count": 263,
      "outputs": [
        {
          "output_type": "stream",
          "name": "stdout",
          "text": [
            "<class 'pandas.core.frame.DataFrame'>\n",
            "Int64Index: 6449 entries, 0 to 6479\n",
            "Data columns (total 9 columns):\n",
            " #   Column     Non-Null Count  Dtype  \n",
            "---  ------     --------------  -----  \n",
            " 0   date       6449 non-null   object \n",
            " 1   city       6449 non-null   object \n",
            " 2   pop        6449 non-null   float64\n",
            " 3   shop       6449 non-null   object \n",
            " 4   brand      6449 non-null   object \n",
            " 5   container  6449 non-null   object \n",
            " 6   capacity   6449 non-null   object \n",
            " 7   price      6449 non-null   float64\n",
            " 8   quantity   6449 non-null   float64\n",
            "dtypes: float64(3), object(6)\n",
            "memory usage: 503.8+ KB\n"
          ]
        }
      ]
    },
    {
      "cell_type": "markdown",
      "source": [
        "###Converting litres to ml in the capacity column"
      ],
      "metadata": {
        "id": "0BTlrqH8GXxp"
      }
    },
    {
      "cell_type": "code",
      "source": [
        "def convert_capacity_to_ml(x):\n",
        "    try:\n",
        "        capacity = float(x.rstrip(' litres'))\n",
        "        capacity_ml = int(capacity * 1000) if capacity > 1 else int(capacity)\n",
        "        return str(capacity_ml) + 'ml'\n",
        "    except ValueError:\n",
        "        return x\n",
        "\n",
        "chunksize = 100000\n",
        "output_chunks = []\n",
        "\n",
        "# Iterate over data_items3 (assuming it contains data chunks)\n",
        "for data in data_items3:\n",
        "    data['capacity'] = data['capacity'].apply(convert_capacity_to_ml)\n",
        "    output_chunks.append(data)\n",
        "\n",
        "# Concatenate the output chunks into a single DataFrame\n",
        "converted_data = pd.concat(output_chunks)\n",
        "print(converted_data.head())\n"
      ],
      "metadata": {
        "colab": {
          "base_uri": "https://localhost:8080/"
        },
        "id": "G1bWRMjBG8K3",
        "outputId": "fadba861-e793-4077-b354-2f2f3299cb5a"
      },
      "execution_count": 264,
      "outputs": [
        {
          "output_type": "stream",
          "name": "stdout",
          "text": [
            "                       city       pop    shop        brand container capacity  \\\n",
            "2012-01-31 00:00:00  Athens  672130.0  shop_1  kinder-cola     glass    500ml   \n",
            "2012-01-31 00:00:00  Athens  672130.0  shop_1  kinder-cola   plastic   1500ml   \n",
            "2012-01-31 00:00:00  Athens  672130.0  shop_1  kinder-cola       can    330ml   \n",
            "2012-01-31 00:00:00  Athens  672130.0  shop_1   adult-cola     glass    500ml   \n",
            "2012-01-31 00:00:00  Athens  672130.0  shop_1   adult-cola       can    330ml   \n",
            "\n",
            "                     price  quantity date  \n",
            "2012-01-31 00:00:00   0.96   13280.0  NaN  \n",
            "2012-01-31 00:00:00   2.86    6727.0  NaN  \n",
            "2012-01-31 00:00:00   0.87    9848.0  NaN  \n",
            "2012-01-31 00:00:00   1.00   20050.0  NaN  \n",
            "2012-01-31 00:00:00   0.39   25696.0  NaN  \n"
          ]
        }
      ]
    },
    {
      "cell_type": "markdown",
      "source": [
        "* Therefore the values like 1.5ltrs is converted to ml"
      ],
      "metadata": {
        "id": "hl2KDSWjEEhG"
      }
    },
    {
      "cell_type": "code",
      "source": [
        "data.head()"
      ],
      "metadata": {
        "colab": {
          "base_uri": "https://localhost:8080/",
          "height": 206
        },
        "id": "rYwpme1GDRmA",
        "outputId": "d4651a33-e1d3-4ec7-9655-0b4963cad84c"
      },
      "execution_count": 265,
      "outputs": [
        {
          "output_type": "execute_result",
          "data": {
            "text/plain": [
              "       date    city       pop    shop        brand container capacity  price  \\\n",
              "0  31/01/12  Athens  672130.0  shop_1  kinder-cola     glass    500ml   0.96   \n",
              "1  31/01/12  Athens  672130.0  shop_1  kinder-cola   plastic   1500ml   2.86   \n",
              "2  31/01/12  Athens  672130.0  shop_1  kinder-cola       can    330ml   0.87   \n",
              "3  31/01/12  Athens  672130.0  shop_1   adult-cola     glass    500ml   1.00   \n",
              "4  31/01/12  Athens  672130.0  shop_1   adult-cola       can    330ml   0.39   \n",
              "\n",
              "   quantity  \n",
              "0   13280.0  \n",
              "1    6727.0  \n",
              "2    9848.0  \n",
              "3   20050.0  \n",
              "4   25696.0  "
            ],
            "text/html": [
              "\n",
              "  <div id=\"df-1bbd7d9f-02f3-42c9-bf0b-7537390f6dd2\">\n",
              "    <div class=\"colab-df-container\">\n",
              "      <div>\n",
              "<style scoped>\n",
              "    .dataframe tbody tr th:only-of-type {\n",
              "        vertical-align: middle;\n",
              "    }\n",
              "\n",
              "    .dataframe tbody tr th {\n",
              "        vertical-align: top;\n",
              "    }\n",
              "\n",
              "    .dataframe thead th {\n",
              "        text-align: right;\n",
              "    }\n",
              "</style>\n",
              "<table border=\"1\" class=\"dataframe\">\n",
              "  <thead>\n",
              "    <tr style=\"text-align: right;\">\n",
              "      <th></th>\n",
              "      <th>date</th>\n",
              "      <th>city</th>\n",
              "      <th>pop</th>\n",
              "      <th>shop</th>\n",
              "      <th>brand</th>\n",
              "      <th>container</th>\n",
              "      <th>capacity</th>\n",
              "      <th>price</th>\n",
              "      <th>quantity</th>\n",
              "    </tr>\n",
              "  </thead>\n",
              "  <tbody>\n",
              "    <tr>\n",
              "      <th>0</th>\n",
              "      <td>31/01/12</td>\n",
              "      <td>Athens</td>\n",
              "      <td>672130.0</td>\n",
              "      <td>shop_1</td>\n",
              "      <td>kinder-cola</td>\n",
              "      <td>glass</td>\n",
              "      <td>500ml</td>\n",
              "      <td>0.96</td>\n",
              "      <td>13280.0</td>\n",
              "    </tr>\n",
              "    <tr>\n",
              "      <th>1</th>\n",
              "      <td>31/01/12</td>\n",
              "      <td>Athens</td>\n",
              "      <td>672130.0</td>\n",
              "      <td>shop_1</td>\n",
              "      <td>kinder-cola</td>\n",
              "      <td>plastic</td>\n",
              "      <td>1500ml</td>\n",
              "      <td>2.86</td>\n",
              "      <td>6727.0</td>\n",
              "    </tr>\n",
              "    <tr>\n",
              "      <th>2</th>\n",
              "      <td>31/01/12</td>\n",
              "      <td>Athens</td>\n",
              "      <td>672130.0</td>\n",
              "      <td>shop_1</td>\n",
              "      <td>kinder-cola</td>\n",
              "      <td>can</td>\n",
              "      <td>330ml</td>\n",
              "      <td>0.87</td>\n",
              "      <td>9848.0</td>\n",
              "    </tr>\n",
              "    <tr>\n",
              "      <th>3</th>\n",
              "      <td>31/01/12</td>\n",
              "      <td>Athens</td>\n",
              "      <td>672130.0</td>\n",
              "      <td>shop_1</td>\n",
              "      <td>adult-cola</td>\n",
              "      <td>glass</td>\n",
              "      <td>500ml</td>\n",
              "      <td>1.00</td>\n",
              "      <td>20050.0</td>\n",
              "    </tr>\n",
              "    <tr>\n",
              "      <th>4</th>\n",
              "      <td>31/01/12</td>\n",
              "      <td>Athens</td>\n",
              "      <td>672130.0</td>\n",
              "      <td>shop_1</td>\n",
              "      <td>adult-cola</td>\n",
              "      <td>can</td>\n",
              "      <td>330ml</td>\n",
              "      <td>0.39</td>\n",
              "      <td>25696.0</td>\n",
              "    </tr>\n",
              "  </tbody>\n",
              "</table>\n",
              "</div>\n",
              "      <button class=\"colab-df-convert\" onclick=\"convertToInteractive('df-1bbd7d9f-02f3-42c9-bf0b-7537390f6dd2')\"\n",
              "              title=\"Convert this dataframe to an interactive table.\"\n",
              "              style=\"display:none;\">\n",
              "        \n",
              "  <svg xmlns=\"http://www.w3.org/2000/svg\" height=\"24px\"viewBox=\"0 0 24 24\"\n",
              "       width=\"24px\">\n",
              "    <path d=\"M0 0h24v24H0V0z\" fill=\"none\"/>\n",
              "    <path d=\"M18.56 5.44l.94 2.06.94-2.06 2.06-.94-2.06-.94-.94-2.06-.94 2.06-2.06.94zm-11 1L8.5 8.5l.94-2.06 2.06-.94-2.06-.94L8.5 2.5l-.94 2.06-2.06.94zm10 10l.94 2.06.94-2.06 2.06-.94-2.06-.94-.94-2.06-.94 2.06-2.06.94z\"/><path d=\"M17.41 7.96l-1.37-1.37c-.4-.4-.92-.59-1.43-.59-.52 0-1.04.2-1.43.59L10.3 9.45l-7.72 7.72c-.78.78-.78 2.05 0 2.83L4 21.41c.39.39.9.59 1.41.59.51 0 1.02-.2 1.41-.59l7.78-7.78 2.81-2.81c.8-.78.8-2.07 0-2.86zM5.41 20L4 18.59l7.72-7.72 1.47 1.35L5.41 20z\"/>\n",
              "  </svg>\n",
              "      </button>\n",
              "      \n",
              "  <style>\n",
              "    .colab-df-container {\n",
              "      display:flex;\n",
              "      flex-wrap:wrap;\n",
              "      gap: 12px;\n",
              "    }\n",
              "\n",
              "    .colab-df-convert {\n",
              "      background-color: #E8F0FE;\n",
              "      border: none;\n",
              "      border-radius: 50%;\n",
              "      cursor: pointer;\n",
              "      display: none;\n",
              "      fill: #1967D2;\n",
              "      height: 32px;\n",
              "      padding: 0 0 0 0;\n",
              "      width: 32px;\n",
              "    }\n",
              "\n",
              "    .colab-df-convert:hover {\n",
              "      background-color: #E2EBFA;\n",
              "      box-shadow: 0px 1px 2px rgba(60, 64, 67, 0.3), 0px 1px 3px 1px rgba(60, 64, 67, 0.15);\n",
              "      fill: #174EA6;\n",
              "    }\n",
              "\n",
              "    [theme=dark] .colab-df-convert {\n",
              "      background-color: #3B4455;\n",
              "      fill: #D2E3FC;\n",
              "    }\n",
              "\n",
              "    [theme=dark] .colab-df-convert:hover {\n",
              "      background-color: #434B5C;\n",
              "      box-shadow: 0px 1px 3px 1px rgba(0, 0, 0, 0.15);\n",
              "      filter: drop-shadow(0px 1px 2px rgba(0, 0, 0, 0.3));\n",
              "      fill: #FFFFFF;\n",
              "    }\n",
              "  </style>\n",
              "\n",
              "      <script>\n",
              "        const buttonEl =\n",
              "          document.querySelector('#df-1bbd7d9f-02f3-42c9-bf0b-7537390f6dd2 button.colab-df-convert');\n",
              "        buttonEl.style.display =\n",
              "          google.colab.kernel.accessAllowed ? 'block' : 'none';\n",
              "\n",
              "        async function convertToInteractive(key) {\n",
              "          const element = document.querySelector('#df-1bbd7d9f-02f3-42c9-bf0b-7537390f6dd2');\n",
              "          const dataTable =\n",
              "            await google.colab.kernel.invokeFunction('convertToInteractive',\n",
              "                                                     [key], {});\n",
              "          if (!dataTable) return;\n",
              "\n",
              "          const docLinkHtml = 'Like what you see? Visit the ' +\n",
              "            '<a target=\"_blank\" href=https://colab.research.google.com/notebooks/data_table.ipynb>data table notebook</a>'\n",
              "            + ' to learn more about interactive tables.';\n",
              "          element.innerHTML = '';\n",
              "          dataTable['output_type'] = 'display_data';\n",
              "          await google.colab.output.renderOutput(dataTable, element);\n",
              "          const docLink = document.createElement('div');\n",
              "          docLink.innerHTML = docLinkHtml;\n",
              "          element.appendChild(docLink);\n",
              "        }\n",
              "      </script>\n",
              "    </div>\n",
              "  </div>\n",
              "  "
            ]
          },
          "metadata": {},
          "execution_count": 265
        }
      ]
    },
    {
      "cell_type": "markdown",
      "source": [
        "###Data Visualization"
      ],
      "metadata": {
        "id": "WDF34G-YlIqI"
      }
    },
    {
      "cell_type": "markdown",
      "source": [
        "* Data visualization allows us to visually explore the patterns, trends, distributions, and relationships within the dataset, providing initial insights and guiding subsequent preprocessing steps.\n",
        "\n",
        "* By visualizing the data, we can gain a better understanding of its structure,  and get a sense of any temporal patterns or seasonality present in the time series data. This exploration can help us make informed decisions about the preprocessing techniques that are most appropriate for our dataset."
      ],
      "metadata": {
        "id": "PCMz7WbtlMje"
      }
    },
    {
      "cell_type": "markdown",
      "source": [
        "1. Plotting the demand in various cities\n"
      ],
      "metadata": {
        "id": "PW5_HbcRrReJ"
      }
    },
    {
      "cell_type": "code",
      "source": [
        "sns.set_context(\"poster\", font_scale=.4)\n",
        "plt.figure(figsize=(5, 4))  # Adjust the figure size as desired\n",
        "\n",
        "# Choose a color palette\n",
        "sns.set_palette('Set2')  #using the 'Set2' color palette\n",
        "\n",
        "# Plot the countplot\n",
        "cities = sns.countplot(data=data, x='city')\n",
        "\n",
        "# Add count values to the bars\n",
        "for i in cities.patches:\n",
        "    height = i.get_height()\n",
        "    cities.text(i.get_x()+i.get_width()/2., height+10.0, height, ha=\"center\")\n",
        "\n",
        "# Customize the plot aesthetics\n",
        "plt.title('Distribution of Cities')\n",
        "plt.xlabel('City')\n",
        "plt.ylabel('Count')\n",
        "\n",
        "# Show the plot\n",
        "plt.show()\n"
      ],
      "metadata": {
        "colab": {
          "base_uri": "https://localhost:8080/",
          "height": 416
        },
        "id": "yJrvxKJPDRja",
        "outputId": "a8ec708e-bd05-437d-ca62-a688a88db027"
      },
      "execution_count": 266,
      "outputs": [
        {
          "output_type": "display_data",
          "data": {
            "text/plain": [
              "<Figure size 500x400 with 1 Axes>"
            ],
            "image/png": "[encoded data removed]"
          },
          "metadata": {}
        }
      ]
    },
    {
      "cell_type": "markdown",
      "source": [
        "* Here from this visualization we can see that the city ***Athens*** has the highest count values\n",
        "* And the remaining cities have the same count values"
      ],
      "metadata": {
        "id": "O_mYOZYLplxh"
      }
    },
    {
      "cell_type": "markdown",
      "source": [
        "2. Plotting the distribution of sales across the various shops"
      ],
      "metadata": {
        "id": "X3KKWcEfrlFA"
      }
    },
    {
      "cell_type": "code",
      "source": [
        "sns.set_context(\"poster\", font_scale=.4)\n",
        "plt.figure(figsize=(5, 4))  # Adjust the figure size as desired\n",
        "\n",
        "# Choose a color palette\n",
        "sns.set_palette('Oranges_r')  #using the 'Oranges_r' color palette\n",
        "\n",
        "# Plot the countplot\n",
        "shops = sns.countplot(data=data, x='shop')\n",
        "\n",
        "# Add count values to the bars\n",
        "for i in shops.patches:\n",
        "    height = i.get_height()\n",
        "    shops.text(i.get_x()+i.get_width()/2., height+10.0, height, ha=\"center\")\n",
        "\n",
        "# Customize the plot aesthetics\n",
        "plt.title('Distribution of shops')\n",
        "plt.xlabel('shops')\n",
        "plt.ylabel('Count')\n",
        "\n",
        "# Show the plot\n",
        "plt.show()\n"
      ],
      "metadata": {
        "colab": {
          "base_uri": "https://localhost:8080/",
          "height": 416
        },
        "id": "-Qrm-fbLDRgz",
        "outputId": "ccdaa1fc-2776-4d93-bb70-58b2bb5c2adb"
      },
      "execution_count": 267,
      "outputs": [
        {
          "output_type": "display_data",
          "data": {
            "text/plain": [
              "<Figure size 500x400 with 1 Axes>"
            ],
            "image/png": "[encoded data removed]"
          },
          "metadata": {}
        }
      ]
    },
    {
      "cell_type": "markdown",
      "source": [
        "* The distribution of all the shops are same and thier count value is ***1080.0***"
      ],
      "metadata": {
        "id": "hBrrySOMuqfo"
      }
    },
    {
      "cell_type": "markdown",
      "source": [
        "3. Plotting the count plot for different brands"
      ],
      "metadata": {
        "id": "7x2j_jYtws_R"
      }
    },
    {
      "cell_type": "code",
      "source": [
        "sns.set_context(\"poster\", font_scale=.4)\n",
        "plt.figure(figsize=(5, 4))  # Adjust the figure size as desired\n",
        "\n",
        "# Choose a color palette\n",
        "sns.set_palette('Blues_r')  #using the 'Blues_r' color palette\n",
        "\n",
        "# Plot the countplot\n",
        "Brands = sns.countplot(data=data, x='brand')\n",
        "\n",
        "# Add count values to the bars\n",
        "for i in Brands.patches:\n",
        "    height = i.get_height()\n",
        "    Brands.text(i.get_x()+i.get_width()/2., height+10.0, height, ha=\"center\")\n",
        "\n",
        "# Customize the plot aesthetics\n",
        "plt.title('Distribution of Brands')\n",
        "plt.xlabel('Brand')\n",
        "plt.ylabel('Count')\n",
        "\n",
        "# Show the plot\n",
        "plt.show()"
      ],
      "metadata": {
        "colab": {
          "base_uri": "https://localhost:8080/",
          "height": 416
        },
        "id": "ikwgKAB5vDEm",
        "outputId": "0466aa6b-5ff5-4eda-b3d8-d2fe27595a96"
      },
      "execution_count": 268,
      "outputs": [
        {
          "output_type": "display_data",
          "data": {
            "text/plain": [
              "<Figure size 500x400 with 1 Axes>"
            ],
            "image/png": "[encoded data removed]"
          },
          "metadata": {}
        }
      ]
    },
    {
      "cell_type": "markdown",
      "source": [
        "* The countplot values for all the different brands are same and their values are ***1296.0***"
      ],
      "metadata": {
        "id": "jyNY2Gqlx1v2"
      }
    },
    {
      "cell_type": "markdown",
      "source": [
        "4. Relationship between the variables ***price*** and ***quantity***"
      ],
      "metadata": {
        "id": "IRVNf27o1gS1"
      }
    },
    {
      "cell_type": "code",
      "source": [
        "# Adjust the figure size as desired\n",
        "plt.figure(figsize=(6, 5))  \n",
        "\n",
        " # Adjust the context and font scale\n",
        "sns.set_context(\"talk\", font_scale=0.5) \n",
        "\n",
        "# Customize the scatter plot\n",
        "scatterplot = sns.scatterplot(data=data, y='price', x='quantity', hue='capacity', palette='cubehelix', alpha=0.8)\n",
        "\n",
        "# Add title and labels\n",
        "plt.title('Scatter Plot of Price and Quanity')\n",
        "plt.xlabel('Quanity')\n",
        "plt.ylabel('Price')\n",
        "\n",
        "# Customize legend\n",
        "scatterplot.legend(title='Capacity', loc='best')\n",
        "\n",
        "# Show the plot\n",
        "plt.show()\n"
      ],
      "metadata": {
        "colab": {
          "base_uri": "https://localhost:8080/",
          "height": 486
        },
        "id": "zsgkJn-UvDAb",
        "outputId": "b893defb-6c12-4fb4-acba-30e9feb5a3d6"
      },
      "execution_count": 269,
      "outputs": [
        {
          "output_type": "display_data",
          "data": {
            "text/plain": [
              "<Figure size 600x500 with 1 Axes>"
            ],
            "image/png": "[encoded data removed]"
          },
          "metadata": {}
        }
      ]
    },
    {
      "cell_type": "markdown",
      "source": [
        "* Here there is a strong correlation between the two variables price and quanity"
      ],
      "metadata": {
        "id": "MbZDE-4x7TdF"
      }
    },
    {
      "cell_type": "markdown",
      "source": [
        "###Data Preprocessing"
      ],
      "metadata": {
        "id": "wbqwoIrP9C4I"
      }
    },
    {
      "cell_type": "markdown",
      "source": [
        "* Label Encoding: In this method, each unique category is assigned a numerical label. You can use the LabelEncoder from the scikit-learn library to perform label encoding."
      ],
      "metadata": {
        "id": "sRlRKeXiFjVz"
      }
    },
    {
      "cell_type": "code",
      "source": [
        "from sklearn.preprocessing import LabelEncoder\n",
        "\n",
        "# Define the categorical columns\n",
        "categorical_col = ['city', 'shop', 'brand', 'container', 'capacity']\n",
        "\n",
        "# Create an instance of LabelEncoder\n",
        "encoder = LabelEncoder()\n",
        "\n",
        "# Iterate over the categorical columns and encode them\n",
        "for col in categorical_col:\n",
        "    data[col] = encoder.fit_transform(data[col])\n"
      ],
      "metadata": {
        "id": "2gzMNrev8qhC"
      },
      "execution_count": 270,
      "outputs": []
    },
    {
      "cell_type": "code",
      "source": [
        "data.info()"
      ],
      "metadata": {
        "colab": {
          "base_uri": "https://localhost:8080/"
        },
        "id": "thNUZgfD8qXG",
        "outputId": "a7628920-0e80-49fa-e31e-2c5dd62b0da4"
      },
      "execution_count": 271,
      "outputs": [
        {
          "output_type": "stream",
          "name": "stdout",
          "text": [
            "<class 'pandas.core.frame.DataFrame'>\n",
            "Int64Index: 6449 entries, 0 to 6479\n",
            "Data columns (total 9 columns):\n",
            " #   Column     Non-Null Count  Dtype  \n",
            "---  ------     --------------  -----  \n",
            " 0   date       6449 non-null   object \n",
            " 1   city       6449 non-null   int64  \n",
            " 2   pop        6449 non-null   float64\n",
            " 3   shop       6449 non-null   int64  \n",
            " 4   brand      6449 non-null   int64  \n",
            " 5   container  6449 non-null   int64  \n",
            " 6   capacity   6449 non-null   int64  \n",
            " 7   price      6449 non-null   float64\n",
            " 8   quantity   6449 non-null   float64\n",
            "dtypes: float64(3), int64(5), object(1)\n",
            "memory usage: 503.8+ KB\n"
          ]
        }
      ]
    },
    {
      "cell_type": "code",
      "source": [
        "data.tail(5)"
      ],
      "metadata": {
        "colab": {
          "base_uri": "https://localhost:8080/",
          "height": 206
        },
        "id": "Vt3cJa178qx_",
        "outputId": "bfa54a96-8c10-43c5-f887-7c31c0e7c9fc"
      },
      "execution_count": 272,
      "outputs": [
        {
          "output_type": "execute_result",
          "data": {
            "text/plain": [
              "          date  city       pop  shop  brand  container  capacity  price  \\\n",
              "6475  31/12/17     0  665871.0     2      4          2         0   1.02   \n",
              "6476  31/12/17     2  144302.0     4      4          0         1   0.47   \n",
              "6477  31/12/17     3  168501.0     5      0          1         2   1.02   \n",
              "6478  31/12/17     4  353001.0     3      1          2         0   1.34   \n",
              "6479  31/12/17     4  353001.0     3      0          1         2   1.16   \n",
              "\n",
              "      quantity  \n",
              "6475   33201.0  \n",
              "6476   46971.0  \n",
              "6477   47708.0  \n",
              "6478   27115.0  \n",
              "6479   30413.0  "
            ],
            "text/html": [
              "\n",
              "  <div id=\"df-ec7aa329-78be-4dc1-9bf8-3625e5700429\">\n",
              "    <div class=\"colab-df-container\">\n",
              "      <div>\n",
              "<style scoped>\n",
              "    .dataframe tbody tr th:only-of-type {\n",
              "        vertical-align: middle;\n",
              "    }\n",
              "\n",
              "    .dataframe tbody tr th {\n",
              "        vertical-align: top;\n",
              "    }\n",
              "\n",
              "    .dataframe thead th {\n",
              "        text-align: right;\n",
              "    }\n",
              "</style>\n",
              "<table border=\"1\" class=\"dataframe\">\n",
              "  <thead>\n",
              "    <tr style=\"text-align: right;\">\n",
              "      <th></th>\n",
              "      <th>date</th>\n",
              "      <th>city</th>\n",
              "      <th>pop</th>\n",
              "      <th>shop</th>\n",
              "      <th>brand</th>\n",
              "      <th>container</th>\n",
              "      <th>capacity</th>\n",
              "      <th>price</th>\n",
              "      <th>quantity</th>\n",
              "    </tr>\n",
              "  </thead>\n",
              "  <tbody>\n",
              "    <tr>\n",
              "      <th>6475</th>\n",
              "      <td>31/12/17</td>\n",
              "      <td>0</td>\n",
              "      <td>665871.0</td>\n",
              "      <td>2</td>\n",
              "      <td>4</td>\n",
              "      <td>2</td>\n",
              "      <td>0</td>\n",
              "      <td>1.02</td>\n",
              "      <td>33201.0</td>\n",
              "    </tr>\n",
              "    <tr>\n",
              "      <th>6476</th>\n",
              "      <td>31/12/17</td>\n",
              "      <td>2</td>\n",
              "      <td>144302.0</td>\n",
              "      <td>4</td>\n",
              "      <td>4</td>\n",
              "      <td>0</td>\n",
              "      <td>1</td>\n",
              "      <td>0.47</td>\n",
              "      <td>46971.0</td>\n",
              "    </tr>\n",
              "    <tr>\n",
              "      <th>6477</th>\n",
              "      <td>31/12/17</td>\n",
              "      <td>3</td>\n",
              "      <td>168501.0</td>\n",
              "      <td>5</td>\n",
              "      <td>0</td>\n",
              "      <td>1</td>\n",
              "      <td>2</td>\n",
              "      <td>1.02</td>\n",
              "      <td>47708.0</td>\n",
              "    </tr>\n",
              "    <tr>\n",
              "      <th>6478</th>\n",
              "      <td>31/12/17</td>\n",
              "      <td>4</td>\n",
              "      <td>353001.0</td>\n",
              "      <td>3</td>\n",
              "      <td>1</td>\n",
              "      <td>2</td>\n",
              "      <td>0</td>\n",
              "      <td>1.34</td>\n",
              "      <td>27115.0</td>\n",
              "    </tr>\n",
              "    <tr>\n",
              "      <th>6479</th>\n",
              "      <td>31/12/17</td>\n",
              "      <td>4</td>\n",
              "      <td>353001.0</td>\n",
              "      <td>3</td>\n",
              "      <td>0</td>\n",
              "      <td>1</td>\n",
              "      <td>2</td>\n",
              "      <td>1.16</td>\n",
              "      <td>30413.0</td>\n",
              "    </tr>\n",
              "  </tbody>\n",
              "</table>\n",
              "</div>\n",
              "      <button class=\"colab-df-convert\" onclick=\"convertToInteractive('df-ec7aa329-78be-4dc1-9bf8-3625e5700429')\"\n",
              "              title=\"Convert this dataframe to an interactive table.\"\n",
              "              style=\"display:none;\">\n",
              "        \n",
              "  <svg xmlns=\"http://www.w3.org/2000/svg\" height=\"24px\"viewBox=\"0 0 24 24\"\n",
              "       width=\"24px\">\n",
              "    <path d=\"M0 0h24v24H0V0z\" fill=\"none\"/>\n",
              "    <path d=\"M18.56 5.44l.94 2.06.94-2.06 2.06-.94-2.06-.94-.94-2.06-.94 2.06-2.06.94zm-11 1L8.5 8.5l.94-2.06 2.06-.94-2.06-.94L8.5 2.5l-.94 2.06-2.06.94zm10 10l.94 2.06.94-2.06 2.06-.94-2.06-.94-.94-2.06-.94 2.06-2.06.94z\"/><path d=\"M17.41 7.96l-1.37-1.37c-.4-.4-.92-.59-1.43-.59-.52 0-1.04.2-1.43.59L10.3 9.45l-7.72 7.72c-.78.78-.78 2.05 0 2.83L4 21.41c.39.39.9.59 1.41.59.51 0 1.02-.2 1.41-.59l7.78-7.78 2.81-2.81c.8-.78.8-2.07 0-2.86zM5.41 20L4 18.59l7.72-7.72 1.47 1.35L5.41 20z\"/>\n",
              "  </svg>\n",
              "      </button>\n",
              "      \n",
              "  <style>\n",
              "    .colab-df-container {\n",
              "      display:flex;\n",
              "      flex-wrap:wrap;\n",
              "      gap: 12px;\n",
              "    }\n",
              "\n",
              "    .colab-df-convert {\n",
              "      background-color: #E8F0FE;\n",
              "      border: none;\n",
              "      border-radius: 50%;\n",
              "      cursor: pointer;\n",
              "      display: none;\n",
              "      fill: #1967D2;\n",
              "      height: 32px;\n",
              "      padding: 0 0 0 0;\n",
              "      width: 32px;\n",
              "    }\n",
              "\n",
              "    .colab-df-convert:hover {\n",
              "      background-color: #E2EBFA;\n",
              "      box-shadow: 0px 1px 2px rgba(60, 64, 67, 0.3), 0px 1px 3px 1px rgba(60, 64, 67, 0.15);\n",
              "      fill: #174EA6;\n",
              "    }\n",
              "\n",
              "    [theme=dark] .colab-df-convert {\n",
              "      background-color: #3B4455;\n",
              "      fill: #D2E3FC;\n",
              "    }\n",
              "\n",
              "    [theme=dark] .colab-df-convert:hover {\n",
              "      background-color: #434B5C;\n",
              "      box-shadow: 0px 1px 3px 1px rgba(0, 0, 0, 0.15);\n",
              "      filter: drop-shadow(0px 1px 2px rgba(0, 0, 0, 0.3));\n",
              "      fill: #FFFFFF;\n",
              "    }\n",
              "  </style>\n",
              "\n",
              "      <script>\n",
              "        const buttonEl =\n",
              "          document.querySelector('#df-ec7aa329-78be-4dc1-9bf8-3625e5700429 button.colab-df-convert');\n",
              "        buttonEl.style.display =\n",
              "          google.colab.kernel.accessAllowed ? 'block' : 'none';\n",
              "\n",
              "        async function convertToInteractive(key) {\n",
              "          const element = document.querySelector('#df-ec7aa329-78be-4dc1-9bf8-3625e5700429');\n",
              "          const dataTable =\n",
              "            await google.colab.kernel.invokeFunction('convertToInteractive',\n",
              "                                                     [key], {});\n",
              "          if (!dataTable) return;\n",
              "\n",
              "          const docLinkHtml = 'Like what you see? Visit the ' +\n",
              "            '<a target=\"_blank\" href=https://colab.research.google.com/notebooks/data_table.ipynb>data table notebook</a>'\n",
              "            + ' to learn more about interactive tables.';\n",
              "          element.innerHTML = '';\n",
              "          dataTable['output_type'] = 'display_data';\n",
              "          await google.colab.output.renderOutput(dataTable, element);\n",
              "          const docLink = document.createElement('div');\n",
              "          docLink.innerHTML = docLinkHtml;\n",
              "          element.appendChild(docLink);\n",
              "        }\n",
              "      </script>\n",
              "    </div>\n",
              "  </div>\n",
              "  "
            ]
          },
          "metadata": {},
          "execution_count": 272
        }
      ]
    },
    {
      "cell_type": "markdown",
      "source": [
        "* As we see here the categorical values in our data has been converted to numerical using label encoding method"
      ],
      "metadata": {
        "id": "Pt0SQsLuF7uA"
      }
    },
    {
      "cell_type": "code",
      "source": [
        "def encode_dates(data, column):\n",
        "    data = data.copy()\n",
        "    data[column] = pd.to_datetime(data[column])\n",
        "    data[column + '_year'] = data[column].apply(lambda x: x.year)\n",
        "    data[column + '_month'] = data[column].apply(lambda x: x.month)\n",
        "    data[column + '_day'] = data[column].apply(lambda x: x.day)\n",
        "    data = data.drop(column, axis=1)\n",
        "    return data\n",
        "\n",
        "data1 = encode_dates(data, 'date')"
      ],
      "metadata": {
        "id": "k9jonkivSFzg"
      },
      "execution_count": 273,
      "outputs": []
    },
    {
      "cell_type": "code",
      "source": [
        "data1.head()"
      ],
      "metadata": {
        "colab": {
          "base_uri": "https://localhost:8080/",
          "height": 206
        },
        "id": "YQC2ZSEKiNrS",
        "outputId": "ea1040c6-df2f-4314-a2c1-2f4bf8e1d711"
      },
      "execution_count": 274,
      "outputs": [
        {
          "output_type": "execute_result",
          "data": {
            "text/plain": [
              "   city       pop  shop  brand  container  capacity  price  quantity  \\\n",
              "0     0  672130.0     0      2          1         2   0.96   13280.0   \n",
              "1     0  672130.0     0      2          2         0   2.86    6727.0   \n",
              "2     0  672130.0     0      2          0         1   0.87    9848.0   \n",
              "3     0  672130.0     0      0          1         2   1.00   20050.0   \n",
              "4     0  672130.0     0      0          0         1   0.39   25696.0   \n",
              "\n",
              "   date_year  date_month  date_day  \n",
              "0       2012           1        31  \n",
              "1       2012           1        31  \n",
              "2       2012           1        31  \n",
              "3       2012           1        31  \n",
              "4       2012           1        31  "
            ],
            "text/html": [
              "\n",
              "  <div id=\"df-17b4f2f8-11bf-45ca-8aad-b2850e6c0712\">\n",
              "    <div class=\"colab-df-container\">\n",
              "      <div>\n",
              "<style scoped>\n",
              "    .dataframe tbody tr th:only-of-type {\n",
              "        vertical-align: middle;\n",
              "    }\n",
              "\n",
              "    .dataframe tbody tr th {\n",
              "        vertical-align: top;\n",
              "    }\n",
              "\n",
              "    .dataframe thead th {\n",
              "        text-align: right;\n",
              "    }\n",
              "</style>\n",
              "<table border=\"1\" class=\"dataframe\">\n",
              "  <thead>\n",
              "    <tr style=\"text-align: right;\">\n",
              "      <th></th>\n",
              "      <th>city</th>\n",
              "      <th>pop</th>\n",
              "      <th>shop</th>\n",
              "      <th>brand</th>\n",
              "      <th>container</th>\n",
              "      <th>capacity</th>\n",
              "      <th>price</th>\n",
              "      <th>quantity</th>\n",
              "      <th>date_year</th>\n",
              "      <th>date_month</th>\n",
              "      <th>date_day</th>\n",
              "    </tr>\n",
              "  </thead>\n",
              "  <tbody>\n",
              "    <tr>\n",
              "      <th>0</th>\n",
              "      <td>0</td>\n",
              "      <td>672130.0</td>\n",
              "      <td>0</td>\n",
              "      <td>2</td>\n",
              "      <td>1</td>\n",
              "      <td>2</td>\n",
              "      <td>0.96</td>\n",
              "      <td>13280.0</td>\n",
              "      <td>2012</td>\n",
              "      <td>1</td>\n",
              "      <td>31</td>\n",
              "    </tr>\n",
              "    <tr>\n",
              "      <th>1</th>\n",
              "      <td>0</td>\n",
              "      <td>672130.0</td>\n",
              "      <td>0</td>\n",
              "      <td>2</td>\n",
              "      <td>2</td>\n",
              "      <td>0</td>\n",
              "      <td>2.86</td>\n",
              "      <td>6727.0</td>\n",
              "      <td>2012</td>\n",
              "      <td>1</td>\n",
              "      <td>31</td>\n",
              "    </tr>\n",
              "    <tr>\n",
              "      <th>2</th>\n",
              "      <td>0</td>\n",
              "      <td>672130.0</td>\n",
              "      <td>0</td>\n",
              "      <td>2</td>\n",
              "      <td>0</td>\n",
              "      <td>1</td>\n",
              "      <td>0.87</td>\n",
              "      <td>9848.0</td>\n",
              "      <td>2012</td>\n",
              "      <td>1</td>\n",
              "      <td>31</td>\n",
              "    </tr>\n",
              "    <tr>\n",
              "      <th>3</th>\n",
              "      <td>0</td>\n",
              "      <td>672130.0</td>\n",
              "      <td>0</td>\n",
              "      <td>0</td>\n",
              "      <td>1</td>\n",
              "      <td>2</td>\n",
              "      <td>1.00</td>\n",
              "      <td>20050.0</td>\n",
              "      <td>2012</td>\n",
              "      <td>1</td>\n",
              "      <td>31</td>\n",
              "    </tr>\n",
              "    <tr>\n",
              "      <th>4</th>\n",
              "      <td>0</td>\n",
              "      <td>672130.0</td>\n",
              "      <td>0</td>\n",
              "      <td>0</td>\n",
              "      <td>0</td>\n",
              "      <td>1</td>\n",
              "      <td>0.39</td>\n",
              "      <td>25696.0</td>\n",
              "      <td>2012</td>\n",
              "      <td>1</td>\n",
              "      <td>31</td>\n",
              "    </tr>\n",
              "  </tbody>\n",
              "</table>\n",
              "</div>\n",
              "      <button class=\"colab-df-convert\" onclick=\"convertToInteractive('df-17b4f2f8-11bf-45ca-8aad-b2850e6c0712')\"\n",
              "              title=\"Convert this dataframe to an interactive table.\"\n",
              "              style=\"display:none;\">\n",
              "        \n",
              "  <svg xmlns=\"http://www.w3.org/2000/svg\" height=\"24px\"viewBox=\"0 0 24 24\"\n",
              "       width=\"24px\">\n",
              "    <path d=\"M0 0h24v24H0V0z\" fill=\"none\"/>\n",
              "    <path d=\"M18.56 5.44l.94 2.06.94-2.06 2.06-.94-2.06-.94-.94-2.06-.94 2.06-2.06.94zm-11 1L8.5 8.5l.94-2.06 2.06-.94-2.06-.94L8.5 2.5l-.94 2.06-2.06.94zm10 10l.94 2.06.94-2.06 2.06-.94-2.06-.94-.94-2.06-.94 2.06-2.06.94z\"/><path d=\"M17.41 7.96l-1.37-1.37c-.4-.4-.92-.59-1.43-.59-.52 0-1.04.2-1.43.59L10.3 9.45l-7.72 7.72c-.78.78-.78 2.05 0 2.83L4 21.41c.39.39.9.59 1.41.59.51 0 1.02-.2 1.41-.59l7.78-7.78 2.81-2.81c.8-.78.8-2.07 0-2.86zM5.41 20L4 18.59l7.72-7.72 1.47 1.35L5.41 20z\"/>\n",
              "  </svg>\n",
              "      </button>\n",
              "      \n",
              "  <style>\n",
              "    .colab-df-container {\n",
              "      display:flex;\n",
              "      flex-wrap:wrap;\n",
              "      gap: 12px;\n",
              "    }\n",
              "\n",
              "    .colab-df-convert {\n",
              "      background-color: #E8F0FE;\n",
              "      border: none;\n",
              "      border-radius: 50%;\n",
              "      cursor: pointer;\n",
              "      display: none;\n",
              "      fill: #1967D2;\n",
              "      height: 32px;\n",
              "      padding: 0 0 0 0;\n",
              "      width: 32px;\n",
              "    }\n",
              "\n",
              "    .colab-df-convert:hover {\n",
              "      background-color: #E2EBFA;\n",
              "      box-shadow: 0px 1px 2px rgba(60, 64, 67, 0.3), 0px 1px 3px 1px rgba(60, 64, 67, 0.15);\n",
              "      fill: #174EA6;\n",
              "    }\n",
              "\n",
              "    [theme=dark] .colab-df-convert {\n",
              "      background-color: #3B4455;\n",
              "      fill: #D2E3FC;\n",
              "    }\n",
              "\n",
              "    [theme=dark] .colab-df-convert:hover {\n",
              "      background-color: #434B5C;\n",
              "      box-shadow: 0px 1px 3px 1px rgba(0, 0, 0, 0.15);\n",
              "      filter: drop-shadow(0px 1px 2px rgba(0, 0, 0, 0.3));\n",
              "      fill: #FFFFFF;\n",
              "    }\n",
              "  </style>\n",
              "\n",
              "      <script>\n",
              "        const buttonEl =\n",
              "          document.querySelector('#df-17b4f2f8-11bf-45ca-8aad-b2850e6c0712 button.colab-df-convert');\n",
              "        buttonEl.style.display =\n",
              "          google.colab.kernel.accessAllowed ? 'block' : 'none';\n",
              "\n",
              "        async function convertToInteractive(key) {\n",
              "          const element = document.querySelector('#df-17b4f2f8-11bf-45ca-8aad-b2850e6c0712');\n",
              "          const dataTable =\n",
              "            await google.colab.kernel.invokeFunction('convertToInteractive',\n",
              "                                                     [key], {});\n",
              "          if (!dataTable) return;\n",
              "\n",
              "          const docLinkHtml = 'Like what you see? Visit the ' +\n",
              "            '<a target=\"_blank\" href=https://colab.research.google.com/notebooks/data_table.ipynb>data table notebook</a>'\n",
              "            + ' to learn more about interactive tables.';\n",
              "          element.innerHTML = '';\n",
              "          dataTable['output_type'] = 'display_data';\n",
              "          await google.colab.output.renderOutput(dataTable, element);\n",
              "          const docLink = document.createElement('div');\n",
              "          docLink.innerHTML = docLinkHtml;\n",
              "          element.appendChild(docLink);\n",
              "        }\n",
              "      </script>\n",
              "    </div>\n",
              "  </div>\n",
              "  "
            ]
          },
          "metadata": {},
          "execution_count": 274
        }
      ]
    },
    {
      "cell_type": "code",
      "source": [
        "data1.dtypes"
      ],
      "metadata": {
        "colab": {
          "base_uri": "https://localhost:8080/"
        },
        "id": "CE7Hzi2YVck9",
        "outputId": "0c1d9004-f75c-455c-e6a5-ee5e040c8562"
      },
      "execution_count": 275,
      "outputs": [
        {
          "output_type": "execute_result",
          "data": {
            "text/plain": [
              "city            int64\n",
              "pop           float64\n",
              "shop            int64\n",
              "brand           int64\n",
              "container       int64\n",
              "capacity        int64\n",
              "price         float64\n",
              "quantity      float64\n",
              "date_year       int64\n",
              "date_month      int64\n",
              "date_day        int64\n",
              "dtype: object"
            ]
          },
          "metadata": {},
          "execution_count": 275
        }
      ]
    },
    {
      "cell_type": "markdown",
      "source": [
        "###Splitting the data "
      ],
      "metadata": {
        "id": "4CgWreVKHGi_"
      }
    },
    {
      "cell_type": "code",
      "source": [
        "X = data1[['city', 'pop', 'shop', 'brand', 'container', 'capacity', 'price', 'date_year',\t'date_month',\t'date_day']]\n",
        "y = data1['quantity']\n",
        "\n",
        "# Splitting the data into train and test sets\n",
        "X_train, X_test, y_train, y_test = train_test_split(X, y, test_size=0.2, random_state=42)\n",
        "\n",
        "# Print the shapes of the train and test sets\n",
        "print(\"X_train shape:\", X_train.shape)\n",
        "print(\"X_test shape:\", X_test.shape)\n",
        "print(\"y_train shape:\", y_train.shape)\n",
        "print(\"y_test shape:\", y_test.shape)"
      ],
      "metadata": {
        "colab": {
          "base_uri": "https://localhost:8080/"
        },
        "id": "uegaWn6fDRen",
        "outputId": "ce1de7b0-642c-448a-cc1e-35dacb83e7ba"
      },
      "execution_count": 276,
      "outputs": [
        {
          "output_type": "stream",
          "name": "stdout",
          "text": [
            "X_train shape: (5159, 10)\n",
            "X_test shape: (1290, 10)\n",
            "y_train shape: (5159,)\n",
            "y_test shape: (1290,)\n"
          ]
        }
      ]
    },
    {
      "cell_type": "code",
      "source": [
        "# Define the models\n",
        "models = {\n",
        "    \"                   K-Nearest Neighbors\": KNeighborsRegressor(),\n",
        "    \"                     Linear Regression\": LinearRegression(),\n",
        "    \"                                 Lasso\": Lasso(),\n",
        "    \"                           Elastic net\": ElasticNet(),\n",
        "    \"   Support Vector Machine (RBF Kernel)\": SVR(),\n",
        "    \"                         Decision Tree\": DecisionTreeRegressor(),\n",
        "    \"                        MLPRegressor\": MLPRegressor(),\n",
        "    \"                     Gradient Boosting\": GradientBoostingRegressor()\n",
        "}\n",
        "\n",
        "for name, model in models.items():\n",
        "    model.fit(X_train, y_train)\n",
        "    print(name + \" trained.\")"
      ],
      "metadata": {
        "colab": {
          "base_uri": "https://localhost:8080/"
        },
        "id": "jEX1GtqmsZRK",
        "outputId": "ce516456-37ef-4e7f-a318-1a5c8cafcf79"
      },
      "execution_count": 277,
      "outputs": [
        {
          "output_type": "stream",
          "name": "stdout",
          "text": [
            "                   K-Nearest Neighbors trained.\n",
            "                     Linear Regression trained.\n",
            "                                 Lasso trained.\n",
            "                           Elastic net trained.\n",
            "   Support Vector Machine (RBF Kernel) trained.\n",
            "                         Decision Tree trained.\n",
            "                        MLPRegressor trained.\n",
            "                     Gradient Boosting trained.\n"
          ]
        }
      ]
    },
    {
      "cell_type": "code",
      "source": [
        "for name, model in models.items():\n",
        "    print(name + \" R^2: {:.5f}\".format(model.score(X_test, y_test)))"
      ],
      "metadata": {
        "colab": {
          "base_uri": "https://localhost:8080/"
        },
        "id": "xIL8GSC3vJAg",
        "outputId": "adc531cd-257f-4ccc-fd73-a425748d0672"
      },
      "execution_count": 278,
      "outputs": [
        {
          "output_type": "stream",
          "name": "stdout",
          "text": [
            "                   K-Nearest Neighbors R^2: 0.51906\n",
            "                     Linear Regression R^2: 0.42167\n",
            "                                 Lasso R^2: 0.42169\n",
            "                           Elastic net R^2: 0.33697\n",
            "   Support Vector Machine (RBF Kernel) R^2: -0.05659\n",
            "                         Decision Tree R^2: 0.80909\n",
            "                        MLPRegressor R^2: 0.05728\n",
            "                     Gradient Boosting R^2: 0.91859\n"
          ]
        }
      ]
    },
    {
      "cell_type": "markdown",
      "source": [
        " * The ***SVM with RBF Kernel and MLPRegressor*** models show ***weaker fits***. \n",
        " * The ***KNN, Linear Regression, Lasso, and Elastic Net*** models fall in between with ***moderate fits***\n",
        " * The ***Decision Tree and Gradient Boosting*** models show the ***good fit*** to the data. \n"
      ],
      "metadata": {
        "id": "W3MsXRI_x_zZ"
      }
    },
    {
      "cell_type": "markdown",
      "source": [
        "* However to get the strongest fit we should implement using another method like ***nested cv***."
      ],
      "metadata": {
        "id": "OK-pTu2UDubB"
      }
    },
    {
      "cell_type": "markdown",
      "source": [
        "###Nested cv method"
      ],
      "metadata": {
        "id": "G0zmnhsUzXrq"
      }
    },
    {
      "cell_type": "markdown",
      "source": [
        "###1. Splitting the data using nested cv class"
      ],
      "metadata": {
        "id": "XhPLxXCa7Crq"
      }
    },
    {
      "cell_type": "code",
      "source": [
        "from pandas import read_csv\n",
        "\n",
        "\n",
        "# Assuming 'x' is your DataFrame\n",
        "X = data1.values\n",
        "\n",
        "# Create an instance of TimeSeriesSplit\n",
        "splits = TimeSeriesSplit(n_splits=3)\n",
        "\n",
        "index = 1\n",
        "for train_index, test_index in splits.split(X):\n",
        "    train_data = X[train_index]\n",
        "    test_data = X[test_index]\n",
        "    \n",
        "    print('Observations: %d' % (len(train_data) + len(test_data)))\n",
        "    print('Training Observations: %d' % (len(train_data)))\n",
        "    print('Testing Observations: %d' % (len(test_data)))\n",
        "\n"
      ],
      "metadata": {
        "colab": {
          "base_uri": "https://localhost:8080/"
        },
        "id": "kvvmRBRfzRHx",
        "outputId": "53d15e64-36f3-4dfb-c38c-78ae28a17231"
      },
      "execution_count": 279,
      "outputs": [
        {
          "output_type": "stream",
          "name": "stdout",
          "text": [
            "Observations: 3225\n",
            "Training Observations: 1613\n",
            "Testing Observations: 1612\n",
            "Observations: 4837\n",
            "Training Observations: 3225\n",
            "Testing Observations: 1612\n",
            "Observations: 6449\n",
            "Training Observations: 4837\n",
            "Testing Observations: 1612\n"
          ]
        }
      ]
    },
    {
      "cell_type": "markdown",
      "source": [
        "* Therefore our data had been splitted into 3 fold using nested cv class"
      ],
      "metadata": {
        "id": "FIz0yYFA_BW4"
      }
    },
    {
      "cell_type": "markdown",
      "source": [
        "###2. To check stationary "
      ],
      "metadata": {
        "id": "C8zaKprD_KXR"
      }
    },
    {
      "cell_type": "code",
      "source": [
        "# Define the column names for the features and target variable\n",
        "column_names = ['city', 'pop', 'shop', 'brand', 'container', 'capacity', 'price', 'date_year', 'date_month', 'date_day']\n",
        "\n",
        "# Separate the features (x) and the target variable (y)\n",
        "x = data1[column_names]\n",
        "y = data1['quantity']\n",
        "\n",
        "# Normalize the features using MinMaxScaler\n",
        "norm = MinMaxScaler().fit(x)\n",
        "x_norm = norm.transform(x)\n",
        "x_norm = pd.DataFrame(x_norm)\n",
        "\n",
        "# Apply PCA on the normalized features\n",
        "pca = PCA()\n",
        "pca.fit(x)\n",
        "\n",
        "# Transform the features using PCA\n",
        "pca_train = pca.transform(x_norm)\n",
        "pca_train = pd.DataFrame(pca_train)\n",
        "\n",
        "# Extract the target variable (quantity) from the normalized features\n",
        "y_norm = x_norm[7]\n",
        "print(y_norm)\n",
        "\n",
        "# Remove the target variable (quantity) from the normalized features\n",
        "x_norm.drop(7, axis=1, inplace=True)\n",
        "pca_train.drop(7, axis=1, inplace=True)\n",
        "print(x_norm)\n"
      ],
      "metadata": {
        "colab": {
          "base_uri": "https://localhost:8080/"
        },
        "id": "46um_UZiJlOY",
        "outputId": "d0ce172a-37ba-45fa-c24b-519badb25f30"
      },
      "execution_count": 280,
      "outputs": [
        {
          "output_type": "stream",
          "name": "stdout",
          "text": [
            "0       0.0\n",
            "1       0.0\n",
            "2       0.0\n",
            "3       0.0\n",
            "4       0.0\n",
            "       ... \n",
            "6444    1.0\n",
            "6445    1.0\n",
            "6446    1.0\n",
            "6447    1.0\n",
            "6448    1.0\n",
            "Name: 7, Length: 6449, dtype: float64\n",
            "         0         1    2     3    4    5         6    8    9\n",
            "0     0.00  1.000000  0.0  0.50  0.5  1.0  0.191874  0.0  1.0\n",
            "1     0.00  1.000000  0.0  0.50  1.0  0.0  0.620767  0.0  1.0\n",
            "2     0.00  1.000000  0.0  0.50  0.0  0.5  0.171558  0.0  1.0\n",
            "3     0.00  1.000000  0.0  0.00  0.5  1.0  0.200903  0.0  1.0\n",
            "4     0.00  1.000000  0.0  0.00  0.0  0.5  0.063205  0.0  1.0\n",
            "...    ...       ...  ...   ...  ...  ...       ...  ...  ...\n",
            "6444  0.00  0.988364  0.4  1.00  1.0  0.0  0.205418  1.0  1.0\n",
            "6445  0.50  0.018745  0.8  1.00  0.0  0.5  0.081264  1.0  1.0\n",
            "6446  0.75  0.063732  1.0  0.00  0.5  1.0  0.205418  1.0  1.0\n",
            "6447  1.00  0.406725  0.6  0.25  1.0  0.0  0.277652  1.0  1.0\n",
            "6448  1.00  0.406725  0.6  0.00  0.5  1.0  0.237020  1.0  1.0\n",
            "\n",
            "[6449 rows x 9 columns]\n"
          ]
        }
      ]
    },
    {
      "cell_type": "code",
      "source": [
        "# Perform Johansen's cointegration test on the normalized data\n",
        "coint_johansen(x_norm,-1,1).eig"
      ],
      "metadata": {
        "colab": {
          "base_uri": "https://localhost:8080/"
        },
        "id": "4RBQfgOjI5DS",
        "outputId": "2bb50eb3-b1b8-4070-8444-a150c30567f2"
      },
      "execution_count": 281,
      "outputs": [
        {
          "output_type": "execute_result",
          "data": {
            "text/plain": [
              "array([4.51436280e-01, 4.08456190e-01, 2.64298699e-01, 1.79009041e-01,\n",
              "       8.81966202e-02, 8.03526101e-02, 4.03162758e-02, 4.88015833e-03,\n",
              "       2.12552511e-04])"
            ]
          },
          "metadata": {},
          "execution_count": 281
        }
      ]
    },
    {
      "cell_type": "markdown",
      "source": [
        "* \n",
        "The eigenvalues obtained from the cointegration test are above 1, it suggests that the variables in your dataset are non-stationary and likely have a long-term relationship or cointegration. In this case, it indicates that the variables move together over time and are not independent.\n",
        "\n",
        "* Cointegration is a useful concept in time series analysis, especially when dealing with multiple variables. It implies that even though the individual variables may not be stationary, there exists a combination or linear relationship among them that is stationary.\n",
        "\n",
        "* When the eigenvalues are above 1, it indicates the presence of cointegration among the variables. The magnitude of the eigenvalues provides information about the strength of the cointegration relationship. Higher eigenvalues indicate stronger cointegration."
      ],
      "metadata": {
        "id": "3NKE66zbMexd"
      }
    },
    {
      "cell_type": "markdown",
      "source": [
        "###3. Using Nested KFold with Machine Learning Models "
      ],
      "metadata": {
        "id": "FVqaoet6ZlcP"
      }
    },
    {
      "cell_type": "code",
      "source": [
        "# Splitting the data into training and testing sets\n",
        "X_train, X_test, y_train, y_test = train_test_split(pca_train, pca_test, test_size=0.3)\n",
        "\n",
        "# Creating pipelines for different regression models\n",
        "pipelines = []\n",
        "pipelines.append(('ScaledKNN', Pipeline([('Scaler', StandardScaler()), ('KNN', KNeighborsRegressor())])))\n",
        "pipelines.append(('ScaledLR', Pipeline([('Scaler', StandardScaler()), ('LR', LinearRegression())])))\n",
        "pipelines.append(('ScaledLASSO', Pipeline([('Scaler', StandardScaler()), ('LASSO', Lasso())])))\n",
        "pipelines.append(('ScaledEN', Pipeline([('Scaler', StandardScaler()), ('EN', ElasticNet())])))\n",
        "pipelines.append(('ScaledSVM(RBF kernal)', Pipeline([('Scaler', StandardScaler()), ('SVM', SVR())])))\n",
        "pipelines.append(('ScaledDTR', Pipeline([('Scaler', StandardScaler()), ('DTR', DecisionTreeRegressor())])))\n",
        "pipelines.append(('ScaledGBM', Pipeline([('Scaler', StandardScaler()), ('GBM', GradientBoostingRegressor())])))\n",
        "\n",
        "# Evaluating and comparing models using cross-validation\n",
        "results = []\n",
        "names = []\n",
        "for name, model in pipelines:\n",
        "    # Performing cross-validation with time series split (5 splits) and R^2 scoring\n",
        "    cv_results = cross_val_score(model, X_train, y_train, cv = TimeSeriesSplit(n_splits=5)\n",
        ", scoring='r2')\n",
        "    # Storing the cross-validation results and model names\n",
        "    results.append(cv_results)\n",
        "    names.append(name)\n",
        "    # Printing the mean and standard deviation of cross-validation scores\n",
        "    msg = f\"{name}: {cv_results.mean():.6f} ({cv_results.std():.6f})\"\n",
        "    print(msg)\n"
      ],
      "metadata": {
        "colab": {
          "base_uri": "https://localhost:8080/"
        },
        "id": "IgN8b-LOQcwm",
        "outputId": "2727e03e-4094-4b1a-e4f6-241199fae110"
      },
      "execution_count": 282,
      "outputs": [
        {
          "output_type": "stream",
          "name": "stdout",
          "text": [
            "ScaledKNN: -0.131272 (0.035667)\n",
            "ScaledLR: 0.048751 (0.008031)\n",
            "ScaledLASSO: -0.001046 (0.001173)\n",
            "ScaledEN: -0.001046 (0.001173)\n",
            "ScaledSVM(RBF kernal): -0.105031 (0.020025)\n",
            "ScaledDTR: 0.999971 (0.000018)\n",
            "ScaledGBM: 0.997451 (0.000784)\n"
          ]
        }
      ]
    },
    {
      "cell_type": "markdown",
      "source": [
        "###* Therefore the models ***Gradiest Boosting Regressor*** and ***Decision Tree Regression*** shows the strong and perfect fit\n",
        "###*Overall, the results obtained from the nested cross-validation of our time series data strongly support the conclusion that this approach provides the best fitting model. "
      ],
      "metadata": {
        "id": "VEPbrbzKVufB"
      }
    },
    {
      "cell_type": "markdown",
      "source": [
        "\n",
        "###Conclusion:\n",
        "\n",
        "In this task, we aimed to predict the quantity of soda based on historical timeseries data. We performed data cleaning to handle missing values and convert the capacity column to milliliters. Data visualization techniques were used to gain insights into the variables and their relationships. Data preprocessing techniques, including feature scaling and handling categorical variables, were applied to prepare the data for modeling.\n",
        "\n",
        "We trained and evaluated several regression models using nested cross-validation, which helps in obtaining reliable performance estimates. The models were assessed using evaluation metrics such as mean squared error (MSE), root mean squared error (RMSE), and R-squared (R2). Among the models, Gradient Boosting Regressor and Decision Tree Regression showed the best performance in predicting the quantity of soda.\n",
        "\n",
        "Overall, this project demonstrates the application of nested cross-validation and various machine learning techniques to accurately predict the quantity of soda. Further improvements can be made by exploring additional feature engineering, trying different algorithms, and tuning hyperparameters to enhance model performance."
      ],
      "metadata": {
        "id": "ZqksfQ5fDWaL"
      }
    }
  ]
}